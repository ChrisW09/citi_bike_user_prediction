{
 "cells": [
  {
   "cell_type": "code",
   "execution_count": 137,
   "metadata": {},
   "outputs": [],
   "source": [
    "import numpy as np\n",
    "import pandas as pd"
   ]
  },
  {
   "cell_type": "code",
   "execution_count": 138,
   "metadata": {},
   "outputs": [],
   "source": [
    "df = pd.read_csv('new_york_citi_bike.csv')"
   ]
  },
  {
   "cell_type": "code",
   "execution_count": 139,
   "metadata": {},
   "outputs": [
    {
     "data": {
      "text/html": [
       "<div>\n",
       "<style scoped>\n",
       "    .dataframe tbody tr th:only-of-type {\n",
       "        vertical-align: middle;\n",
       "    }\n",
       "\n",
       "    .dataframe tbody tr th {\n",
       "        vertical-align: top;\n",
       "    }\n",
       "\n",
       "    .dataframe thead th {\n",
       "        text-align: right;\n",
       "    }\n",
       "</style>\n",
       "<table border=\"1\" class=\"dataframe\">\n",
       "  <thead>\n",
       "    <tr style=\"text-align: right;\">\n",
       "      <th></th>\n",
       "      <th>tripduration</th>\n",
       "      <th>starttime</th>\n",
       "      <th>stoptime</th>\n",
       "      <th>start station id</th>\n",
       "      <th>start station name</th>\n",
       "      <th>start station latitude</th>\n",
       "      <th>start station longitude</th>\n",
       "      <th>end station id</th>\n",
       "      <th>end station name</th>\n",
       "      <th>end station latitude</th>\n",
       "      <th>end station longitude</th>\n",
       "      <th>bikeid</th>\n",
       "      <th>usertype</th>\n",
       "      <th>birth year</th>\n",
       "      <th>gender</th>\n",
       "    </tr>\n",
       "  </thead>\n",
       "  <tbody>\n",
       "    <tr>\n",
       "      <th>0</th>\n",
       "      <td>327</td>\n",
       "      <td>00:02.0</td>\n",
       "      <td>05:29.3</td>\n",
       "      <td>3733</td>\n",
       "      <td>Avenue C &amp; E 18 St</td>\n",
       "      <td>40.730563</td>\n",
       "      <td>-73.973984</td>\n",
       "      <td>504</td>\n",
       "      <td>1 Ave &amp; E 16 St</td>\n",
       "      <td>40.732219</td>\n",
       "      <td>-73.981656</td>\n",
       "      <td>39213</td>\n",
       "      <td>Subscriber</td>\n",
       "      <td>1968</td>\n",
       "      <td>1</td>\n",
       "    </tr>\n",
       "    <tr>\n",
       "      <th>1</th>\n",
       "      <td>1145</td>\n",
       "      <td>00:04.1</td>\n",
       "      <td>19:09.8</td>\n",
       "      <td>3329</td>\n",
       "      <td>Degraw St &amp; Smith St</td>\n",
       "      <td>40.682915</td>\n",
       "      <td>-73.993182</td>\n",
       "      <td>270</td>\n",
       "      <td>Adelphi St &amp; Myrtle Ave</td>\n",
       "      <td>40.693083</td>\n",
       "      <td>-73.971789</td>\n",
       "      <td>21257</td>\n",
       "      <td>Customer</td>\n",
       "      <td>1969</td>\n",
       "      <td>0</td>\n",
       "    </tr>\n",
       "    <tr>\n",
       "      <th>2</th>\n",
       "      <td>1293</td>\n",
       "      <td>00:07.3</td>\n",
       "      <td>21:40.8</td>\n",
       "      <td>3168</td>\n",
       "      <td>Central Park West &amp; W 85 St</td>\n",
       "      <td>40.784727</td>\n",
       "      <td>-73.969617</td>\n",
       "      <td>423</td>\n",
       "      <td>W 54 St &amp; 9 Ave</td>\n",
       "      <td>40.765849</td>\n",
       "      <td>-73.986905</td>\n",
       "      <td>15242</td>\n",
       "      <td>Customer</td>\n",
       "      <td>1969</td>\n",
       "      <td>0</td>\n",
       "    </tr>\n",
       "    <tr>\n",
       "      <th>3</th>\n",
       "      <td>1753</td>\n",
       "      <td>00:08.1</td>\n",
       "      <td>29:21.5</td>\n",
       "      <td>3299</td>\n",
       "      <td>E 98 St &amp; Park Ave</td>\n",
       "      <td>40.788130</td>\n",
       "      <td>-73.952060</td>\n",
       "      <td>3160</td>\n",
       "      <td>Central Park West &amp; W 76 St</td>\n",
       "      <td>40.778968</td>\n",
       "      <td>-73.973747</td>\n",
       "      <td>38760</td>\n",
       "      <td>Subscriber</td>\n",
       "      <td>1990</td>\n",
       "      <td>1</td>\n",
       "    </tr>\n",
       "    <tr>\n",
       "      <th>4</th>\n",
       "      <td>613</td>\n",
       "      <td>00:12.9</td>\n",
       "      <td>10:26.2</td>\n",
       "      <td>486</td>\n",
       "      <td>Broadway &amp; W 29 St</td>\n",
       "      <td>40.746201</td>\n",
       "      <td>-73.988557</td>\n",
       "      <td>478</td>\n",
       "      <td>11 Ave &amp; W 41 St</td>\n",
       "      <td>40.760301</td>\n",
       "      <td>-73.998842</td>\n",
       "      <td>32094</td>\n",
       "      <td>Subscriber</td>\n",
       "      <td>1992</td>\n",
       "      <td>1</td>\n",
       "    </tr>\n",
       "  </tbody>\n",
       "</table>\n",
       "</div>"
      ],
      "text/plain": [
       "   tripduration starttime stoptime  start station id  \\\n",
       "0           327   00:02.0  05:29.3              3733   \n",
       "1          1145   00:04.1  19:09.8              3329   \n",
       "2          1293   00:07.3  21:40.8              3168   \n",
       "3          1753   00:08.1  29:21.5              3299   \n",
       "4           613   00:12.9  10:26.2               486   \n",
       "\n",
       "            start station name  start station latitude  \\\n",
       "0           Avenue C & E 18 St               40.730563   \n",
       "1         Degraw St & Smith St               40.682915   \n",
       "2  Central Park West & W 85 St               40.784727   \n",
       "3           E 98 St & Park Ave               40.788130   \n",
       "4           Broadway & W 29 St               40.746201   \n",
       "\n",
       "   start station longitude  end station id             end station name  \\\n",
       "0               -73.973984             504              1 Ave & E 16 St   \n",
       "1               -73.993182             270      Adelphi St & Myrtle Ave   \n",
       "2               -73.969617             423              W 54 St & 9 Ave   \n",
       "3               -73.952060            3160  Central Park West & W 76 St   \n",
       "4               -73.988557             478             11 Ave & W 41 St   \n",
       "\n",
       "   end station latitude  end station longitude  bikeid    usertype  \\\n",
       "0             40.732219             -73.981656   39213  Subscriber   \n",
       "1             40.693083             -73.971789   21257    Customer   \n",
       "2             40.765849             -73.986905   15242    Customer   \n",
       "3             40.778968             -73.973747   38760  Subscriber   \n",
       "4             40.760301             -73.998842   32094  Subscriber   \n",
       "\n",
       "   birth year  gender  \n",
       "0        1968       1  \n",
       "1        1969       0  \n",
       "2        1969       0  \n",
       "3        1990       1  \n",
       "4        1992       1  "
      ]
     },
     "execution_count": 139,
     "metadata": {},
     "output_type": "execute_result"
    }
   ],
   "source": [
    "df.head()"
   ]
  },
  {
   "cell_type": "code",
   "execution_count": 140,
   "metadata": {},
   "outputs": [
    {
     "name": "stdout",
     "output_type": "stream",
     "text": [
      "<class 'pandas.core.frame.DataFrame'>\n",
      "RangeIndex: 1048575 entries, 0 to 1048574\n",
      "Data columns (total 15 columns):\n",
      "tripduration               1048575 non-null int64\n",
      "starttime                  1048575 non-null object\n",
      "stoptime                   1048575 non-null object\n",
      "start station id           1048575 non-null int64\n",
      "start station name         1048575 non-null object\n",
      "start station latitude     1048575 non-null float64\n",
      "start station longitude    1048575 non-null float64\n",
      "end station id             1048575 non-null int64\n",
      "end station name           1048575 non-null object\n",
      "end station latitude       1048575 non-null float64\n",
      "end station longitude      1048575 non-null float64\n",
      "bikeid                     1048575 non-null int64\n",
      "usertype                   1048575 non-null object\n",
      "birth year                 1048575 non-null int64\n",
      "gender                     1048575 non-null int64\n",
      "dtypes: float64(4), int64(6), object(5)\n",
      "memory usage: 120.0+ MB\n"
     ]
    }
   ],
   "source": [
    "df.info()"
   ]
  },
  {
   "cell_type": "code",
   "execution_count": 141,
   "metadata": {},
   "outputs": [
    {
     "data": {
      "text/html": [
       "<div>\n",
       "<style scoped>\n",
       "    .dataframe tbody tr th:only-of-type {\n",
       "        vertical-align: middle;\n",
       "    }\n",
       "\n",
       "    .dataframe tbody tr th {\n",
       "        vertical-align: top;\n",
       "    }\n",
       "\n",
       "    .dataframe thead th {\n",
       "        text-align: right;\n",
       "    }\n",
       "</style>\n",
       "<table border=\"1\" class=\"dataframe\">\n",
       "  <thead>\n",
       "    <tr style=\"text-align: right;\">\n",
       "      <th></th>\n",
       "      <th>tripduration</th>\n",
       "      <th>start station id</th>\n",
       "      <th>start station latitude</th>\n",
       "      <th>start station longitude</th>\n",
       "      <th>end station id</th>\n",
       "      <th>end station latitude</th>\n",
       "      <th>end station longitude</th>\n",
       "      <th>bikeid</th>\n",
       "      <th>birth year</th>\n",
       "      <th>gender</th>\n",
       "    </tr>\n",
       "  </thead>\n",
       "  <tbody>\n",
       "    <tr>\n",
       "      <th>count</th>\n",
       "      <td>1.048575e+06</td>\n",
       "      <td>1.048575e+06</td>\n",
       "      <td>1.048575e+06</td>\n",
       "      <td>1.048575e+06</td>\n",
       "      <td>1.048575e+06</td>\n",
       "      <td>1.048575e+06</td>\n",
       "      <td>1.048575e+06</td>\n",
       "      <td>1.048575e+06</td>\n",
       "      <td>1.048575e+06</td>\n",
       "      <td>1.048575e+06</td>\n",
       "    </tr>\n",
       "    <tr>\n",
       "      <th>mean</th>\n",
       "      <td>1.008363e+03</td>\n",
       "      <td>1.654709e+03</td>\n",
       "      <td>4.073735e+01</td>\n",
       "      <td>-7.398213e+01</td>\n",
       "      <td>1.648128e+03</td>\n",
       "      <td>4.073698e+01</td>\n",
       "      <td>-7.398234e+01</td>\n",
       "      <td>2.961550e+04</td>\n",
       "      <td>1.980670e+03</td>\n",
       "      <td>1.167502e+00</td>\n",
       "    </tr>\n",
       "    <tr>\n",
       "      <th>std</th>\n",
       "      <td>1.107315e+04</td>\n",
       "      <td>1.481409e+03</td>\n",
       "      <td>3.024812e-02</td>\n",
       "      <td>2.016519e-02</td>\n",
       "      <td>1.481127e+03</td>\n",
       "      <td>3.014928e-02</td>\n",
       "      <td>2.023096e-02</td>\n",
       "      <td>7.699267e+03</td>\n",
       "      <td>1.210761e+01</td>\n",
       "      <td>5.571929e-01</td>\n",
       "    </tr>\n",
       "    <tr>\n",
       "      <th>min</th>\n",
       "      <td>6.100000e+01</td>\n",
       "      <td>7.200000e+01</td>\n",
       "      <td>4.065540e+01</td>\n",
       "      <td>-7.402535e+01</td>\n",
       "      <td>7.200000e+01</td>\n",
       "      <td>4.065540e+01</td>\n",
       "      <td>-7.404282e+01</td>\n",
       "      <td>1.452900e+04</td>\n",
       "      <td>1.885000e+03</td>\n",
       "      <td>0.000000e+00</td>\n",
       "    </tr>\n",
       "    <tr>\n",
       "      <th>25%</th>\n",
       "      <td>3.860000e+02</td>\n",
       "      <td>3.770000e+02</td>\n",
       "      <td>4.071755e+01</td>\n",
       "      <td>-7.399596e+01</td>\n",
       "      <td>3.760000e+02</td>\n",
       "      <td>4.071749e+01</td>\n",
       "      <td>-7.399662e+01</td>\n",
       "      <td>2.508500e+04</td>\n",
       "      <td>1.970000e+03</td>\n",
       "      <td>1.000000e+00</td>\n",
       "    </tr>\n",
       "    <tr>\n",
       "      <th>50%</th>\n",
       "      <td>6.570000e+02</td>\n",
       "      <td>5.080000e+02</td>\n",
       "      <td>4.073705e+01</td>\n",
       "      <td>-7.398584e+01</td>\n",
       "      <td>5.070000e+02</td>\n",
       "      <td>4.073653e+01</td>\n",
       "      <td>-7.398627e+01</td>\n",
       "      <td>3.078300e+04</td>\n",
       "      <td>1.983000e+03</td>\n",
       "      <td>1.000000e+00</td>\n",
       "    </tr>\n",
       "    <tr>\n",
       "      <th>75%</th>\n",
       "      <td>1.139000e+03</td>\n",
       "      <td>3.295000e+03</td>\n",
       "      <td>4.075725e+01</td>\n",
       "      <td>-7.397121e+01</td>\n",
       "      <td>3.295000e+03</td>\n",
       "      <td>4.075680e+01</td>\n",
       "      <td>-7.397121e+01</td>\n",
       "      <td>3.526100e+04</td>\n",
       "      <td>1.990000e+03</td>\n",
       "      <td>2.000000e+00</td>\n",
       "    </tr>\n",
       "    <tr>\n",
       "      <th>max</th>\n",
       "      <td>2.904620e+06</td>\n",
       "      <td>3.811000e+03</td>\n",
       "      <td>4.081439e+01</td>\n",
       "      <td>-7.390774e+01</td>\n",
       "      <td>3.811000e+03</td>\n",
       "      <td>4.081439e+01</td>\n",
       "      <td>-7.390774e+01</td>\n",
       "      <td>4.097200e+04</td>\n",
       "      <td>2.003000e+03</td>\n",
       "      <td>2.000000e+00</td>\n",
       "    </tr>\n",
       "  </tbody>\n",
       "</table>\n",
       "</div>"
      ],
      "text/plain": [
       "       tripduration  start station id  start station latitude  \\\n",
       "count  1.048575e+06      1.048575e+06            1.048575e+06   \n",
       "mean   1.008363e+03      1.654709e+03            4.073735e+01   \n",
       "std    1.107315e+04      1.481409e+03            3.024812e-02   \n",
       "min    6.100000e+01      7.200000e+01            4.065540e+01   \n",
       "25%    3.860000e+02      3.770000e+02            4.071755e+01   \n",
       "50%    6.570000e+02      5.080000e+02            4.073705e+01   \n",
       "75%    1.139000e+03      3.295000e+03            4.075725e+01   \n",
       "max    2.904620e+06      3.811000e+03            4.081439e+01   \n",
       "\n",
       "       start station longitude  end station id  end station latitude  \\\n",
       "count             1.048575e+06    1.048575e+06          1.048575e+06   \n",
       "mean             -7.398213e+01    1.648128e+03          4.073698e+01   \n",
       "std               2.016519e-02    1.481127e+03          3.014928e-02   \n",
       "min              -7.402535e+01    7.200000e+01          4.065540e+01   \n",
       "25%              -7.399596e+01    3.760000e+02          4.071749e+01   \n",
       "50%              -7.398584e+01    5.070000e+02          4.073653e+01   \n",
       "75%              -7.397121e+01    3.295000e+03          4.075680e+01   \n",
       "max              -7.390774e+01    3.811000e+03          4.081439e+01   \n",
       "\n",
       "       end station longitude        bikeid    birth year        gender  \n",
       "count           1.048575e+06  1.048575e+06  1.048575e+06  1.048575e+06  \n",
       "mean           -7.398234e+01  2.961550e+04  1.980670e+03  1.167502e+00  \n",
       "std             2.023096e-02  7.699267e+03  1.210761e+01  5.571929e-01  \n",
       "min            -7.404282e+01  1.452900e+04  1.885000e+03  0.000000e+00  \n",
       "25%            -7.399662e+01  2.508500e+04  1.970000e+03  1.000000e+00  \n",
       "50%            -7.398627e+01  3.078300e+04  1.983000e+03  1.000000e+00  \n",
       "75%            -7.397121e+01  3.526100e+04  1.990000e+03  2.000000e+00  \n",
       "max            -7.390774e+01  4.097200e+04  2.003000e+03  2.000000e+00  "
      ]
     },
     "execution_count": 141,
     "metadata": {},
     "output_type": "execute_result"
    }
   ],
   "source": [
    "df.describe()"
   ]
  },
  {
   "cell_type": "markdown",
   "metadata": {},
   "source": [
    "## Data Cleaning"
   ]
  },
  {
   "cell_type": "code",
   "execution_count": 142,
   "metadata": {},
   "outputs": [],
   "source": [
    "columns_todrop = ['starttime','stoptime','start station id','start station name','end station id','end station name','bikeid']\n",
    "\n",
    "df.drop(columns = columns_todrop, axis = 1, inplace = True)"
   ]
  },
  {
   "cell_type": "code",
   "execution_count": 143,
   "metadata": {},
   "outputs": [
    {
     "data": {
      "text/plain": [
       "(1048575, 8)"
      ]
     },
     "execution_count": 143,
     "metadata": {},
     "output_type": "execute_result"
    }
   ],
   "source": [
    "df.shape"
   ]
  },
  {
   "cell_type": "code",
   "execution_count": 144,
   "metadata": {},
   "outputs": [
    {
     "data": {
      "text/plain": [
       "<matplotlib.axes._subplots.AxesSubplot at 0x1a79c2c6d8>"
      ]
     },
     "execution_count": 144,
     "metadata": {},
     "output_type": "execute_result"
    },
    {
     "data": {
      "image/png": "[encoded data removed]",
      "text/plain": [
       "<Figure size 1152x720 with 2 Axes>"
      ]
     },
     "metadata": {
      "needs_background": "light"
     },
     "output_type": "display_data"
    }
   ],
   "source": [
    "feat_corr = df.corr()\n",
    "\n",
    "plt.figure( figsize = (16,10))\n",
    "sns.heatmap(feat_corr, cmap = 'coolwarm',annot = True)"
   ]
  },
  {
   "cell_type": "code",
   "execution_count": 145,
   "metadata": {},
   "outputs": [
    {
     "data": {
      "text/plain": [
       "tripduration               0\n",
       "start station latitude     0\n",
       "start station longitude    0\n",
       "end station latitude       0\n",
       "end station longitude      0\n",
       "usertype                   0\n",
       "birth year                 0\n",
       "gender                     0\n",
       "dtype: int64"
      ]
     },
     "execution_count": 145,
     "metadata": {},
     "output_type": "execute_result"
    }
   ],
   "source": [
    "df.isnull().sum()"
   ]
  },
  {
   "cell_type": "code",
   "execution_count": 146,
   "metadata": {},
   "outputs": [
    {
     "name": "stdout",
     "output_type": "stream",
     "text": [
      "Duplicate Rows:  4408\n"
     ]
    }
   ],
   "source": [
    "duplicate_df = df[df.duplicated()]\n",
    "print('Duplicate Rows: ', duplicate_df.shape[0])"
   ]
  },
  {
   "cell_type": "markdown",
   "metadata": {},
   "source": [
    "### Trip Duration - Feature Extraction"
   ]
  },
  {
   "cell_type": "code",
   "execution_count": 148,
   "metadata": {},
   "outputs": [],
   "source": [
    "df['tripduration'] = df['tripduration']/60"
   ]
  },
  {
   "cell_type": "code",
   "execution_count": 149,
   "metadata": {},
   "outputs": [
    {
     "data": {
      "text/html": [
       "<div>\n",
       "<style scoped>\n",
       "    .dataframe tbody tr th:only-of-type {\n",
       "        vertical-align: middle;\n",
       "    }\n",
       "\n",
       "    .dataframe tbody tr th {\n",
       "        vertical-align: top;\n",
       "    }\n",
       "\n",
       "    .dataframe thead th {\n",
       "        text-align: right;\n",
       "    }\n",
       "</style>\n",
       "<table border=\"1\" class=\"dataframe\">\n",
       "  <thead>\n",
       "    <tr style=\"text-align: right;\">\n",
       "      <th></th>\n",
       "      <th>tripduration</th>\n",
       "      <th>start station latitude</th>\n",
       "      <th>start station longitude</th>\n",
       "      <th>end station latitude</th>\n",
       "      <th>end station longitude</th>\n",
       "      <th>usertype</th>\n",
       "      <th>birth year</th>\n",
       "      <th>gender</th>\n",
       "    </tr>\n",
       "  </thead>\n",
       "  <tbody>\n",
       "    <tr>\n",
       "      <th>0</th>\n",
       "      <td>5.450000</td>\n",
       "      <td>40.730563</td>\n",
       "      <td>-73.973984</td>\n",
       "      <td>40.732219</td>\n",
       "      <td>-73.981656</td>\n",
       "      <td>Subscriber</td>\n",
       "      <td>1968</td>\n",
       "      <td>1</td>\n",
       "    </tr>\n",
       "    <tr>\n",
       "      <th>1</th>\n",
       "      <td>19.083333</td>\n",
       "      <td>40.682915</td>\n",
       "      <td>-73.993182</td>\n",
       "      <td>40.693083</td>\n",
       "      <td>-73.971789</td>\n",
       "      <td>Customer</td>\n",
       "      <td>1969</td>\n",
       "      <td>0</td>\n",
       "    </tr>\n",
       "    <tr>\n",
       "      <th>2</th>\n",
       "      <td>21.550000</td>\n",
       "      <td>40.784727</td>\n",
       "      <td>-73.969617</td>\n",
       "      <td>40.765849</td>\n",
       "      <td>-73.986905</td>\n",
       "      <td>Customer</td>\n",
       "      <td>1969</td>\n",
       "      <td>0</td>\n",
       "    </tr>\n",
       "    <tr>\n",
       "      <th>3</th>\n",
       "      <td>29.216667</td>\n",
       "      <td>40.788130</td>\n",
       "      <td>-73.952060</td>\n",
       "      <td>40.778968</td>\n",
       "      <td>-73.973747</td>\n",
       "      <td>Subscriber</td>\n",
       "      <td>1990</td>\n",
       "      <td>1</td>\n",
       "    </tr>\n",
       "    <tr>\n",
       "      <th>4</th>\n",
       "      <td>10.216667</td>\n",
       "      <td>40.746201</td>\n",
       "      <td>-73.988557</td>\n",
       "      <td>40.760301</td>\n",
       "      <td>-73.998842</td>\n",
       "      <td>Subscriber</td>\n",
       "      <td>1992</td>\n",
       "      <td>1</td>\n",
       "    </tr>\n",
       "  </tbody>\n",
       "</table>\n",
       "</div>"
      ],
      "text/plain": [
       "   tripduration  start station latitude  start station longitude  \\\n",
       "0      5.450000               40.730563               -73.973984   \n",
       "1     19.083333               40.682915               -73.993182   \n",
       "2     21.550000               40.784727               -73.969617   \n",
       "3     29.216667               40.788130               -73.952060   \n",
       "4     10.216667               40.746201               -73.988557   \n",
       "\n",
       "   end station latitude  end station longitude    usertype  birth year  gender  \n",
       "0             40.732219             -73.981656  Subscriber        1968       1  \n",
       "1             40.693083             -73.971789    Customer        1969       0  \n",
       "2             40.765849             -73.986905    Customer        1969       0  \n",
       "3             40.778968             -73.973747  Subscriber        1990       1  \n",
       "4             40.760301             -73.998842  Subscriber        1992       1  "
      ]
     },
     "execution_count": 149,
     "metadata": {},
     "output_type": "execute_result"
    }
   ],
   "source": [
    "df.head()"
   ]
  },
  {
   "cell_type": "code",
   "execution_count": 150,
   "metadata": {},
   "outputs": [],
   "source": [
    "df['tripduration'] = df['tripduration'].round(3)"
   ]
  },
  {
   "cell_type": "code",
   "execution_count": 151,
   "metadata": {
    "scrolled": true
   },
   "outputs": [
    {
     "data": {
      "text/html": [
       "<div>\n",
       "<style scoped>\n",
       "    .dataframe tbody tr th:only-of-type {\n",
       "        vertical-align: middle;\n",
       "    }\n",
       "\n",
       "    .dataframe tbody tr th {\n",
       "        vertical-align: top;\n",
       "    }\n",
       "\n",
       "    .dataframe thead th {\n",
       "        text-align: right;\n",
       "    }\n",
       "</style>\n",
       "<table border=\"1\" class=\"dataframe\">\n",
       "  <thead>\n",
       "    <tr style=\"text-align: right;\">\n",
       "      <th></th>\n",
       "      <th>tripduration</th>\n",
       "      <th>start station latitude</th>\n",
       "      <th>start station longitude</th>\n",
       "      <th>end station latitude</th>\n",
       "      <th>end station longitude</th>\n",
       "      <th>usertype</th>\n",
       "      <th>birth year</th>\n",
       "      <th>gender</th>\n",
       "    </tr>\n",
       "  </thead>\n",
       "  <tbody>\n",
       "    <tr>\n",
       "      <th>0</th>\n",
       "      <td>5.450</td>\n",
       "      <td>40.730563</td>\n",
       "      <td>-73.973984</td>\n",
       "      <td>40.732219</td>\n",
       "      <td>-73.981656</td>\n",
       "      <td>Subscriber</td>\n",
       "      <td>1968</td>\n",
       "      <td>1</td>\n",
       "    </tr>\n",
       "    <tr>\n",
       "      <th>1</th>\n",
       "      <td>19.083</td>\n",
       "      <td>40.682915</td>\n",
       "      <td>-73.993182</td>\n",
       "      <td>40.693083</td>\n",
       "      <td>-73.971789</td>\n",
       "      <td>Customer</td>\n",
       "      <td>1969</td>\n",
       "      <td>0</td>\n",
       "    </tr>\n",
       "    <tr>\n",
       "      <th>2</th>\n",
       "      <td>21.550</td>\n",
       "      <td>40.784727</td>\n",
       "      <td>-73.969617</td>\n",
       "      <td>40.765849</td>\n",
       "      <td>-73.986905</td>\n",
       "      <td>Customer</td>\n",
       "      <td>1969</td>\n",
       "      <td>0</td>\n",
       "    </tr>\n",
       "    <tr>\n",
       "      <th>3</th>\n",
       "      <td>29.217</td>\n",
       "      <td>40.788130</td>\n",
       "      <td>-73.952060</td>\n",
       "      <td>40.778968</td>\n",
       "      <td>-73.973747</td>\n",
       "      <td>Subscriber</td>\n",
       "      <td>1990</td>\n",
       "      <td>1</td>\n",
       "    </tr>\n",
       "    <tr>\n",
       "      <th>4</th>\n",
       "      <td>10.217</td>\n",
       "      <td>40.746201</td>\n",
       "      <td>-73.988557</td>\n",
       "      <td>40.760301</td>\n",
       "      <td>-73.998842</td>\n",
       "      <td>Subscriber</td>\n",
       "      <td>1992</td>\n",
       "      <td>1</td>\n",
       "    </tr>\n",
       "  </tbody>\n",
       "</table>\n",
       "</div>"
      ],
      "text/plain": [
       "   tripduration  start station latitude  start station longitude  \\\n",
       "0         5.450               40.730563               -73.973984   \n",
       "1        19.083               40.682915               -73.993182   \n",
       "2        21.550               40.784727               -73.969617   \n",
       "3        29.217               40.788130               -73.952060   \n",
       "4        10.217               40.746201               -73.988557   \n",
       "\n",
       "   end station latitude  end station longitude    usertype  birth year  gender  \n",
       "0             40.732219             -73.981656  Subscriber        1968       1  \n",
       "1             40.693083             -73.971789    Customer        1969       0  \n",
       "2             40.765849             -73.986905    Customer        1969       0  \n",
       "3             40.778968             -73.973747  Subscriber        1990       1  \n",
       "4             40.760301             -73.998842  Subscriber        1992       1  "
      ]
     },
     "execution_count": 151,
     "metadata": {},
     "output_type": "execute_result"
    }
   ],
   "source": [
    "df.head()"
   ]
  },
  {
   "cell_type": "markdown",
   "metadata": {},
   "source": [
    "### Latitude and Longitude - Feature Extraction"
   ]
  },
  {
   "cell_type": "code",
   "execution_count": 152,
   "metadata": {},
   "outputs": [
    {
     "data": {
      "text/plain": [
       "count    1.048575e+06\n",
       "mean     4.073735e+01\n",
       "std      3.024812e-02\n",
       "min      4.065540e+01\n",
       "25%      4.071755e+01\n",
       "50%      4.073705e+01\n",
       "75%      4.075725e+01\n",
       "max      4.081439e+01\n",
       "Name: start station latitude, dtype: float64"
      ]
     },
     "execution_count": 152,
     "metadata": {},
     "output_type": "execute_result"
    }
   ],
   "source": [
    "df['start station latitude'].describe()"
   ]
  },
  {
   "cell_type": "code",
   "execution_count": 153,
   "metadata": {},
   "outputs": [
    {
     "data": {
      "text/plain": [
       "count    1.048575e+06\n",
       "mean     4.073698e+01\n",
       "std      3.014928e-02\n",
       "min      4.065540e+01\n",
       "25%      4.071749e+01\n",
       "50%      4.073653e+01\n",
       "75%      4.075680e+01\n",
       "max      4.081439e+01\n",
       "Name: end station latitude, dtype: float64"
      ]
     },
     "execution_count": 153,
     "metadata": {},
     "output_type": "execute_result"
    }
   ],
   "source": [
    "df['end station latitude'].describe()"
   ]
  },
  {
   "cell_type": "code",
   "execution_count": 154,
   "metadata": {},
   "outputs": [
    {
     "data": {
      "text/plain": [
       "count    1.048575e+06\n",
       "mean    -7.398213e+01\n",
       "std      2.016519e-02\n",
       "min     -7.402535e+01\n",
       "25%     -7.399596e+01\n",
       "50%     -7.398584e+01\n",
       "75%     -7.397121e+01\n",
       "max     -7.390774e+01\n",
       "Name: start station longitude, dtype: float64"
      ]
     },
     "execution_count": 154,
     "metadata": {},
     "output_type": "execute_result"
    }
   ],
   "source": [
    "df['start station longitude'].describe()"
   ]
  },
  {
   "cell_type": "code",
   "execution_count": 155,
   "metadata": {},
   "outputs": [
    {
     "data": {
      "text/plain": [
       "count    1.048575e+06\n",
       "mean    -7.398234e+01\n",
       "std      2.023096e-02\n",
       "min     -7.404282e+01\n",
       "25%     -7.399662e+01\n",
       "50%     -7.398627e+01\n",
       "75%     -7.397121e+01\n",
       "max     -7.390774e+01\n",
       "Name: end station longitude, dtype: float64"
      ]
     },
     "execution_count": 155,
     "metadata": {},
     "output_type": "execute_result"
    }
   ],
   "source": [
    "df['end station longitude'].describe()"
   ]
  },
  {
   "cell_type": "code",
   "execution_count": 157,
   "metadata": {},
   "outputs": [],
   "source": [
    "start_lat = np.where((df['start station latitude']< -90) | (df['start station latitude'] > 90))"
   ]
  },
  {
   "cell_type": "code",
   "execution_count": 158,
   "metadata": {},
   "outputs": [
    {
     "data": {
      "text/plain": [
       "(array([], dtype=int64),)"
      ]
     },
     "execution_count": 158,
     "metadata": {},
     "output_type": "execute_result"
    }
   ],
   "source": [
    "start_lat"
   ]
  },
  {
   "cell_type": "code",
   "execution_count": 159,
   "metadata": {},
   "outputs": [],
   "source": [
    "start_long = np.where((df['start station longitude']< -180) | (df['start station longitude'] > 180))"
   ]
  },
  {
   "cell_type": "code",
   "execution_count": 160,
   "metadata": {},
   "outputs": [
    {
     "data": {
      "text/plain": [
       "(array([], dtype=int64),)"
      ]
     },
     "execution_count": 160,
     "metadata": {},
     "output_type": "execute_result"
    }
   ],
   "source": [
    "start_long"
   ]
  },
  {
   "cell_type": "code",
   "execution_count": 161,
   "metadata": {},
   "outputs": [],
   "source": [
    "end_lat = np.where((df['end station latitude']< -90) | (df['end station latitude'] > 90))"
   ]
  },
  {
   "cell_type": "code",
   "execution_count": 162,
   "metadata": {},
   "outputs": [
    {
     "data": {
      "text/plain": [
       "(array([], dtype=int64),)"
      ]
     },
     "execution_count": 162,
     "metadata": {},
     "output_type": "execute_result"
    }
   ],
   "source": [
    "end_lat"
   ]
  },
  {
   "cell_type": "code",
   "execution_count": 163,
   "metadata": {},
   "outputs": [],
   "source": [
    "end_long = np.where((df['end station longitude']< -180) | (df['end station longitude'] > 180))"
   ]
  },
  {
   "cell_type": "code",
   "execution_count": 164,
   "metadata": {},
   "outputs": [
    {
     "data": {
      "text/plain": [
       "(array([], dtype=int64),)"
      ]
     },
     "execution_count": 164,
     "metadata": {},
     "output_type": "execute_result"
    }
   ],
   "source": [
    "end_long"
   ]
  },
  {
   "cell_type": "markdown",
   "metadata": {},
   "source": [
    "Considering the city of New York, we have to keep in mind the longitude and latitude boundaries of the city. After some domain research, i found out that,<br>\n",
    "\n",
    "<b>Longitude Boundary - (-74.03, -73.75)<br>\n",
    "\n",
    "<b>Latitude Boundary - (40.63, 40.85)<br>\n",
    "    \n",
    "Hence, we need to remove values outside this boundary."
   ]
  },
  {
   "cell_type": "code",
   "execution_count": 165,
   "metadata": {},
   "outputs": [],
   "source": [
    "nyc_boundary = {'min_lng':-74.263242,\n",
    "              'min_lat':40.573143,\n",
    "              'max_lng':-72.986532, \n",
    "              'max_lat':41.709555}"
   ]
  },
  {
   "cell_type": "code",
   "execution_count": 166,
   "metadata": {},
   "outputs": [],
   "source": [
    "outside_nyc = np.where(~((df['start station longitude'] >= nyc_boundary['min_lng'] ) & (df['start station longitude'] <= nyc_boundary['max_lng']) &\n",
    "            (df['start station latitude'] >= nyc_boundary['min_lat']) & (df['start station latitude'] <= nyc_boundary['max_lat']) &\n",
    "            (df['end station longitude'] >= nyc_boundary['min_lng']) & (df['end station longitude'] <= nyc_boundary['max_lng']) &\n",
    "            (df['end station latitude'] >=nyc_boundary['min_lat']) & (df['end station latitude'] <= nyc_boundary['max_lat'])))"
   ]
  },
  {
   "cell_type": "code",
   "execution_count": 168,
   "metadata": {},
   "outputs": [
    {
     "data": {
      "text/plain": [
       "(array([], dtype=int64),)"
      ]
     },
     "execution_count": 168,
     "metadata": {},
     "output_type": "execute_result"
    }
   ],
   "source": [
    "outside_nyc"
   ]
  },
  {
   "cell_type": "code",
   "execution_count": 180,
   "metadata": {},
   "outputs": [],
   "source": [
    "def distance(lat1, long1, lat2, long2):\n",
    "    data = [df]\n",
    "    for i in data:\n",
    "        R = 3959 #radius of earth in miles\n",
    "        phi1 = np.radians(i[lat1])\n",
    "        phi2 = np.radians(i[lat2])\n",
    "    \n",
    "        delta_phi = np.radians(i[lat2]-i[lat1])\n",
    "        delta_lambda = np.radians(i[long2]-i[long1])\n",
    "    \n",
    "        a = np.sin(delta_phi / 2.0) ** 2 + np.cos(phi1) * np.cos(phi2) * np.sin(delta_lambda / 2.0) ** 2\n",
    "    \n",
    "        c = 2 * np.arctan2(np.sqrt(a), np.sqrt(1-a))\n",
    "    \n",
    "        d = (R * c)\n",
    "        i['trip_distance'] = d\n",
    "    return d"
   ]
  },
  {
   "cell_type": "code",
   "execution_count": 181,
   "metadata": {},
   "outputs": [
    {
     "data": {
      "text/plain": [
       "0          0.417659\n",
       "1          1.322852\n",
       "2          1.587362\n",
       "3          1.299336\n",
       "4          1.113123\n",
       "5          0.604318\n",
       "6          0.604318\n",
       "7          1.611522\n",
       "8          0.855361\n",
       "9          0.443298\n",
       "10         3.149221\n",
       "11         1.402630\n",
       "12         0.342587\n",
       "13         0.409985\n",
       "14         1.611522\n",
       "15         0.313673\n",
       "16         0.803138\n",
       "17         0.852498\n",
       "18         1.357578\n",
       "19         1.587362\n",
       "20         0.572293\n",
       "21         0.285022\n",
       "22         2.531804\n",
       "23         1.310354\n",
       "24         0.550658\n",
       "25         1.241245\n",
       "26         1.267014\n",
       "27         0.322192\n",
       "28         3.149221\n",
       "29         1.287900\n",
       "             ...   \n",
       "1048545    1.330387\n",
       "1048546    3.746732\n",
       "1048547    0.341488\n",
       "1048548    0.575990\n",
       "1048549    3.012852\n",
       "1048550    2.049733\n",
       "1048551    0.268771\n",
       "1048552    0.832066\n",
       "1048553    1.156876\n",
       "1048554    0.603822\n",
       "1048555    0.816552\n",
       "1048556    0.839189\n",
       "1048557    1.643123\n",
       "1048558    2.501984\n",
       "1048559    1.860250\n",
       "1048560    2.449362\n",
       "1048561    0.550658\n",
       "1048562    0.649712\n",
       "1048563    0.176160\n",
       "1048564    0.558503\n",
       "1048565    1.444860\n",
       "1048566    0.403261\n",
       "1048567    0.923268\n",
       "1048568    1.318775\n",
       "1048569    0.622849\n",
       "1048570    2.872123\n",
       "1048571    1.062663\n",
       "1048572    0.587214\n",
       "1048573    0.341488\n",
       "1048574    2.319069\n",
       "Length: 1048575, dtype: float64"
      ]
     },
     "execution_count": 181,
     "metadata": {},
     "output_type": "execute_result"
    }
   ],
   "source": [
    "distance('start station latitude', 'start station longitude', 'end station latitude','end station longitude')"
   ]
  },
  {
   "cell_type": "code",
   "execution_count": 182,
   "metadata": {},
   "outputs": [
    {
     "data": {
      "text/html": [
       "<div>\n",
       "<style scoped>\n",
       "    .dataframe tbody tr th:only-of-type {\n",
       "        vertical-align: middle;\n",
       "    }\n",
       "\n",
       "    .dataframe tbody tr th {\n",
       "        vertical-align: top;\n",
       "    }\n",
       "\n",
       "    .dataframe thead th {\n",
       "        text-align: right;\n",
       "    }\n",
       "</style>\n",
       "<table border=\"1\" class=\"dataframe\">\n",
       "  <thead>\n",
       "    <tr style=\"text-align: right;\">\n",
       "      <th></th>\n",
       "      <th>tripduration</th>\n",
       "      <th>start station latitude</th>\n",
       "      <th>start station longitude</th>\n",
       "      <th>end station latitude</th>\n",
       "      <th>end station longitude</th>\n",
       "      <th>usertype</th>\n",
       "      <th>birth year</th>\n",
       "      <th>gender</th>\n",
       "      <th>trip_distance</th>\n",
       "    </tr>\n",
       "  </thead>\n",
       "  <tbody>\n",
       "    <tr>\n",
       "      <th>0</th>\n",
       "      <td>5.450</td>\n",
       "      <td>40.730563</td>\n",
       "      <td>-73.973984</td>\n",
       "      <td>40.732219</td>\n",
       "      <td>-73.981656</td>\n",
       "      <td>Subscriber</td>\n",
       "      <td>1968</td>\n",
       "      <td>1</td>\n",
       "      <td>0.417659</td>\n",
       "    </tr>\n",
       "    <tr>\n",
       "      <th>1</th>\n",
       "      <td>19.083</td>\n",
       "      <td>40.682915</td>\n",
       "      <td>-73.993182</td>\n",
       "      <td>40.693083</td>\n",
       "      <td>-73.971789</td>\n",
       "      <td>Customer</td>\n",
       "      <td>1969</td>\n",
       "      <td>0</td>\n",
       "      <td>1.322852</td>\n",
       "    </tr>\n",
       "    <tr>\n",
       "      <th>2</th>\n",
       "      <td>21.550</td>\n",
       "      <td>40.784727</td>\n",
       "      <td>-73.969617</td>\n",
       "      <td>40.765849</td>\n",
       "      <td>-73.986905</td>\n",
       "      <td>Customer</td>\n",
       "      <td>1969</td>\n",
       "      <td>0</td>\n",
       "      <td>1.587362</td>\n",
       "    </tr>\n",
       "    <tr>\n",
       "      <th>3</th>\n",
       "      <td>29.217</td>\n",
       "      <td>40.788130</td>\n",
       "      <td>-73.952060</td>\n",
       "      <td>40.778968</td>\n",
       "      <td>-73.973747</td>\n",
       "      <td>Subscriber</td>\n",
       "      <td>1990</td>\n",
       "      <td>1</td>\n",
       "      <td>1.299336</td>\n",
       "    </tr>\n",
       "    <tr>\n",
       "      <th>4</th>\n",
       "      <td>10.217</td>\n",
       "      <td>40.746201</td>\n",
       "      <td>-73.988557</td>\n",
       "      <td>40.760301</td>\n",
       "      <td>-73.998842</td>\n",
       "      <td>Subscriber</td>\n",
       "      <td>1992</td>\n",
       "      <td>1</td>\n",
       "      <td>1.113123</td>\n",
       "    </tr>\n",
       "  </tbody>\n",
       "</table>\n",
       "</div>"
      ],
      "text/plain": [
       "   tripduration  start station latitude  start station longitude  \\\n",
       "0         5.450               40.730563               -73.973984   \n",
       "1        19.083               40.682915               -73.993182   \n",
       "2        21.550               40.784727               -73.969617   \n",
       "3        29.217               40.788130               -73.952060   \n",
       "4        10.217               40.746201               -73.988557   \n",
       "\n",
       "   end station latitude  end station longitude    usertype  birth year  \\\n",
       "0             40.732219             -73.981656  Subscriber        1968   \n",
       "1             40.693083             -73.971789    Customer        1969   \n",
       "2             40.765849             -73.986905    Customer        1969   \n",
       "3             40.778968             -73.973747  Subscriber        1990   \n",
       "4             40.760301             -73.998842  Subscriber        1992   \n",
       "\n",
       "   gender  trip_distance  \n",
       "0       1       0.417659  \n",
       "1       0       1.322852  \n",
       "2       0       1.587362  \n",
       "3       1       1.299336  \n",
       "4       1       1.113123  "
      ]
     },
     "execution_count": 182,
     "metadata": {},
     "output_type": "execute_result"
    }
   ],
   "source": [
    "df.head()"
   ]
  },
  {
   "cell_type": "markdown",
   "metadata": {},
   "source": [
    "### Gender Column"
   ]
  },
  {
   "cell_type": "code",
   "execution_count": 190,
   "metadata": {},
   "outputs": [],
   "source": [
    "def replaceGender(x):\n",
    "    abc = ''\n",
    "    try:\n",
    "        if x == 0:\n",
    "            abc = 'Unknown'\n",
    "        elif x == 1:\n",
    "            abc = 'Male'\n",
    "        else:\n",
    "            abc = 'Female'\n",
    "    except Exception as e:\n",
    "        print(\"Exception\",x)\n",
    "        return x\n",
    "    return abc"
   ]
  },
  {
   "cell_type": "code",
   "execution_count": 191,
   "metadata": {},
   "outputs": [],
   "source": [
    "df['gender'] = df['gender'].apply(replaceGender)"
   ]
  },
  {
   "cell_type": "code",
   "execution_count": 192,
   "metadata": {},
   "outputs": [
    {
     "data": {
      "text/html": [
       "<div>\n",
       "<style scoped>\n",
       "    .dataframe tbody tr th:only-of-type {\n",
       "        vertical-align: middle;\n",
       "    }\n",
       "\n",
       "    .dataframe tbody tr th {\n",
       "        vertical-align: top;\n",
       "    }\n",
       "\n",
       "    .dataframe thead th {\n",
       "        text-align: right;\n",
       "    }\n",
       "</style>\n",
       "<table border=\"1\" class=\"dataframe\">\n",
       "  <thead>\n",
       "    <tr style=\"text-align: right;\">\n",
       "      <th></th>\n",
       "      <th>tripduration</th>\n",
       "      <th>start station latitude</th>\n",
       "      <th>start station longitude</th>\n",
       "      <th>end station latitude</th>\n",
       "      <th>end station longitude</th>\n",
       "      <th>usertype</th>\n",
       "      <th>birth year</th>\n",
       "      <th>gender</th>\n",
       "      <th>trip_distance</th>\n",
       "    </tr>\n",
       "  </thead>\n",
       "  <tbody>\n",
       "    <tr>\n",
       "      <th>0</th>\n",
       "      <td>5.450</td>\n",
       "      <td>40.730563</td>\n",
       "      <td>-73.973984</td>\n",
       "      <td>40.732219</td>\n",
       "      <td>-73.981656</td>\n",
       "      <td>Subscriber</td>\n",
       "      <td>1968</td>\n",
       "      <td>Male</td>\n",
       "      <td>0.417659</td>\n",
       "    </tr>\n",
       "    <tr>\n",
       "      <th>1</th>\n",
       "      <td>19.083</td>\n",
       "      <td>40.682915</td>\n",
       "      <td>-73.993182</td>\n",
       "      <td>40.693083</td>\n",
       "      <td>-73.971789</td>\n",
       "      <td>Customer</td>\n",
       "      <td>1969</td>\n",
       "      <td>Unknown</td>\n",
       "      <td>1.322852</td>\n",
       "    </tr>\n",
       "    <tr>\n",
       "      <th>2</th>\n",
       "      <td>21.550</td>\n",
       "      <td>40.784727</td>\n",
       "      <td>-73.969617</td>\n",
       "      <td>40.765849</td>\n",
       "      <td>-73.986905</td>\n",
       "      <td>Customer</td>\n",
       "      <td>1969</td>\n",
       "      <td>Unknown</td>\n",
       "      <td>1.587362</td>\n",
       "    </tr>\n",
       "    <tr>\n",
       "      <th>3</th>\n",
       "      <td>29.217</td>\n",
       "      <td>40.788130</td>\n",
       "      <td>-73.952060</td>\n",
       "      <td>40.778968</td>\n",
       "      <td>-73.973747</td>\n",
       "      <td>Subscriber</td>\n",
       "      <td>1990</td>\n",
       "      <td>Male</td>\n",
       "      <td>1.299336</td>\n",
       "    </tr>\n",
       "    <tr>\n",
       "      <th>4</th>\n",
       "      <td>10.217</td>\n",
       "      <td>40.746201</td>\n",
       "      <td>-73.988557</td>\n",
       "      <td>40.760301</td>\n",
       "      <td>-73.998842</td>\n",
       "      <td>Subscriber</td>\n",
       "      <td>1992</td>\n",
       "      <td>Male</td>\n",
       "      <td>1.113123</td>\n",
       "    </tr>\n",
       "  </tbody>\n",
       "</table>\n",
       "</div>"
      ],
      "text/plain": [
       "   tripduration  start station latitude  start station longitude  \\\n",
       "0         5.450               40.730563               -73.973984   \n",
       "1        19.083               40.682915               -73.993182   \n",
       "2        21.550               40.784727               -73.969617   \n",
       "3        29.217               40.788130               -73.952060   \n",
       "4        10.217               40.746201               -73.988557   \n",
       "\n",
       "   end station latitude  end station longitude    usertype  birth year  \\\n",
       "0             40.732219             -73.981656  Subscriber        1968   \n",
       "1             40.693083             -73.971789    Customer        1969   \n",
       "2             40.765849             -73.986905    Customer        1969   \n",
       "3             40.778968             -73.973747  Subscriber        1990   \n",
       "4             40.760301             -73.998842  Subscriber        1992   \n",
       "\n",
       "    gender  trip_distance  \n",
       "0     Male       0.417659  \n",
       "1  Unknown       1.322852  \n",
       "2  Unknown       1.587362  \n",
       "3     Male       1.299336  \n",
       "4     Male       1.113123  "
      ]
     },
     "execution_count": 192,
     "metadata": {},
     "output_type": "execute_result"
    }
   ],
   "source": [
    "df.head()"
   ]
  }
 ],
 "metadata": {
  "kernelspec": {
   "display_name": "Python 3",
   "language": "python",
   "name": "python3"
  },
  "language_info": {
   "codemirror_mode": {
    "name": "ipython",
    "version": 3
   },
   "file_extension": ".py",
   "mimetype": "text/x-python",
   "name": "python",
   "nbconvert_exporter": "python",
   "pygments_lexer": "ipython3",
   "version": "3.7.3"
  }
 },
 "nbformat": 4,
 "nbformat_minor": 2
}
