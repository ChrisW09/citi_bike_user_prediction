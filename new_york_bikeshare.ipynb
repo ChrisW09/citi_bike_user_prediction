{
 "cells": [
  {
   "cell_type": "code",
   "execution_count": 73,
   "metadata": {},
   "outputs": [],
   "source": [
    "import numpy as np\n",
    "import pandas as pd\n",
    "import seaborn as sns\n",
    "import matplotlib.pyplot as plt\n",
    "from collections import Counter\n",
    "\n",
    "sns.set(rc={'figure.figsize':(12,8)})"
   ]
  },
  {
   "cell_type": "code",
   "execution_count": 74,
   "metadata": {},
   "outputs": [],
   "source": [
    "df = pd.read_csv('new_york_citi_bike.csv')"
   ]
  },
  {
   "cell_type": "code",
   "execution_count": 75,
   "metadata": {},
   "outputs": [
    {
     "data": {
      "text/html": [
       "<div>\n",
       "<style scoped>\n",
       "    .dataframe tbody tr th:only-of-type {\n",
       "        vertical-align: middle;\n",
       "    }\n",
       "\n",
       "    .dataframe tbody tr th {\n",
       "        vertical-align: top;\n",
       "    }\n",
       "\n",
       "    .dataframe thead th {\n",
       "        text-align: right;\n",
       "    }\n",
       "</style>\n",
       "<table border=\"1\" class=\"dataframe\">\n",
       "  <thead>\n",
       "    <tr style=\"text-align: right;\">\n",
       "      <th></th>\n",
       "      <th>tripduration</th>\n",
       "      <th>starttime</th>\n",
       "      <th>stoptime</th>\n",
       "      <th>start station id</th>\n",
       "      <th>start station name</th>\n",
       "      <th>start station latitude</th>\n",
       "      <th>start station longitude</th>\n",
       "      <th>end station id</th>\n",
       "      <th>end station name</th>\n",
       "      <th>end station latitude</th>\n",
       "      <th>end station longitude</th>\n",
       "      <th>bikeid</th>\n",
       "      <th>usertype</th>\n",
       "      <th>birth year</th>\n",
       "      <th>gender</th>\n",
       "    </tr>\n",
       "  </thead>\n",
       "  <tbody>\n",
       "    <tr>\n",
       "      <th>0</th>\n",
       "      <td>327</td>\n",
       "      <td>00:02.0</td>\n",
       "      <td>05:29.3</td>\n",
       "      <td>3733</td>\n",
       "      <td>Avenue C &amp; E 18 St</td>\n",
       "      <td>40.730563</td>\n",
       "      <td>-73.973984</td>\n",
       "      <td>504</td>\n",
       "      <td>1 Ave &amp; E 16 St</td>\n",
       "      <td>40.732219</td>\n",
       "      <td>-73.981656</td>\n",
       "      <td>39213</td>\n",
       "      <td>Subscriber</td>\n",
       "      <td>1968</td>\n",
       "      <td>1</td>\n",
       "    </tr>\n",
       "    <tr>\n",
       "      <th>1</th>\n",
       "      <td>1145</td>\n",
       "      <td>00:04.1</td>\n",
       "      <td>19:09.8</td>\n",
       "      <td>3329</td>\n",
       "      <td>Degraw St &amp; Smith St</td>\n",
       "      <td>40.682915</td>\n",
       "      <td>-73.993182</td>\n",
       "      <td>270</td>\n",
       "      <td>Adelphi St &amp; Myrtle Ave</td>\n",
       "      <td>40.693083</td>\n",
       "      <td>-73.971789</td>\n",
       "      <td>21257</td>\n",
       "      <td>Customer</td>\n",
       "      <td>1969</td>\n",
       "      <td>0</td>\n",
       "    </tr>\n",
       "    <tr>\n",
       "      <th>2</th>\n",
       "      <td>1293</td>\n",
       "      <td>00:07.3</td>\n",
       "      <td>21:40.8</td>\n",
       "      <td>3168</td>\n",
       "      <td>Central Park West &amp; W 85 St</td>\n",
       "      <td>40.784727</td>\n",
       "      <td>-73.969617</td>\n",
       "      <td>423</td>\n",
       "      <td>W 54 St &amp; 9 Ave</td>\n",
       "      <td>40.765849</td>\n",
       "      <td>-73.986905</td>\n",
       "      <td>15242</td>\n",
       "      <td>Customer</td>\n",
       "      <td>1969</td>\n",
       "      <td>0</td>\n",
       "    </tr>\n",
       "    <tr>\n",
       "      <th>3</th>\n",
       "      <td>1753</td>\n",
       "      <td>00:08.1</td>\n",
       "      <td>29:21.5</td>\n",
       "      <td>3299</td>\n",
       "      <td>E 98 St &amp; Park Ave</td>\n",
       "      <td>40.788130</td>\n",
       "      <td>-73.952060</td>\n",
       "      <td>3160</td>\n",
       "      <td>Central Park West &amp; W 76 St</td>\n",
       "      <td>40.778968</td>\n",
       "      <td>-73.973747</td>\n",
       "      <td>38760</td>\n",
       "      <td>Subscriber</td>\n",
       "      <td>1990</td>\n",
       "      <td>1</td>\n",
       "    </tr>\n",
       "    <tr>\n",
       "      <th>4</th>\n",
       "      <td>613</td>\n",
       "      <td>00:12.9</td>\n",
       "      <td>10:26.2</td>\n",
       "      <td>486</td>\n",
       "      <td>Broadway &amp; W 29 St</td>\n",
       "      <td>40.746201</td>\n",
       "      <td>-73.988557</td>\n",
       "      <td>478</td>\n",
       "      <td>11 Ave &amp; W 41 St</td>\n",
       "      <td>40.760301</td>\n",
       "      <td>-73.998842</td>\n",
       "      <td>32094</td>\n",
       "      <td>Subscriber</td>\n",
       "      <td>1992</td>\n",
       "      <td>1</td>\n",
       "    </tr>\n",
       "  </tbody>\n",
       "</table>\n",
       "</div>"
      ],
      "text/plain": [
       "   tripduration starttime stoptime  start station id  \\\n",
       "0           327   00:02.0  05:29.3              3733   \n",
       "1          1145   00:04.1  19:09.8              3329   \n",
       "2          1293   00:07.3  21:40.8              3168   \n",
       "3          1753   00:08.1  29:21.5              3299   \n",
       "4           613   00:12.9  10:26.2               486   \n",
       "\n",
       "            start station name  start station latitude  \\\n",
       "0           Avenue C & E 18 St               40.730563   \n",
       "1         Degraw St & Smith St               40.682915   \n",
       "2  Central Park West & W 85 St               40.784727   \n",
       "3           E 98 St & Park Ave               40.788130   \n",
       "4           Broadway & W 29 St               40.746201   \n",
       "\n",
       "   start station longitude  end station id             end station name  \\\n",
       "0               -73.973984             504              1 Ave & E 16 St   \n",
       "1               -73.993182             270      Adelphi St & Myrtle Ave   \n",
       "2               -73.969617             423              W 54 St & 9 Ave   \n",
       "3               -73.952060            3160  Central Park West & W 76 St   \n",
       "4               -73.988557             478             11 Ave & W 41 St   \n",
       "\n",
       "   end station latitude  end station longitude  bikeid    usertype  \\\n",
       "0             40.732219             -73.981656   39213  Subscriber   \n",
       "1             40.693083             -73.971789   21257    Customer   \n",
       "2             40.765849             -73.986905   15242    Customer   \n",
       "3             40.778968             -73.973747   38760  Subscriber   \n",
       "4             40.760301             -73.998842   32094  Subscriber   \n",
       "\n",
       "   birth year  gender  \n",
       "0        1968       1  \n",
       "1        1969       0  \n",
       "2        1969       0  \n",
       "3        1990       1  \n",
       "4        1992       1  "
      ]
     },
     "execution_count": 75,
     "metadata": {},
     "output_type": "execute_result"
    }
   ],
   "source": [
    "df.head()"
   ]
  },
  {
   "cell_type": "code",
   "execution_count": 76,
   "metadata": {},
   "outputs": [
    {
     "name": "stdout",
     "output_type": "stream",
     "text": [
      "<class 'pandas.core.frame.DataFrame'>\n",
      "RangeIndex: 1048575 entries, 0 to 1048574\n",
      "Data columns (total 15 columns):\n",
      "tripduration               1048575 non-null int64\n",
      "starttime                  1048575 non-null object\n",
      "stoptime                   1048575 non-null object\n",
      "start station id           1048575 non-null int64\n",
      "start station name         1048575 non-null object\n",
      "start station latitude     1048575 non-null float64\n",
      "start station longitude    1048575 non-null float64\n",
      "end station id             1048575 non-null int64\n",
      "end station name           1048575 non-null object\n",
      "end station latitude       1048575 non-null float64\n",
      "end station longitude      1048575 non-null float64\n",
      "bikeid                     1048575 non-null int64\n",
      "usertype                   1048575 non-null object\n",
      "birth year                 1048575 non-null int64\n",
      "gender                     1048575 non-null int64\n",
      "dtypes: float64(4), int64(6), object(5)\n",
      "memory usage: 120.0+ MB\n"
     ]
    }
   ],
   "source": [
    "df.info()"
   ]
  },
  {
   "cell_type": "code",
   "execution_count": 77,
   "metadata": {},
   "outputs": [
    {
     "data": {
      "text/html": [
       "<div>\n",
       "<style scoped>\n",
       "    .dataframe tbody tr th:only-of-type {\n",
       "        vertical-align: middle;\n",
       "    }\n",
       "\n",
       "    .dataframe tbody tr th {\n",
       "        vertical-align: top;\n",
       "    }\n",
       "\n",
       "    .dataframe thead th {\n",
       "        text-align: right;\n",
       "    }\n",
       "</style>\n",
       "<table border=\"1\" class=\"dataframe\">\n",
       "  <thead>\n",
       "    <tr style=\"text-align: right;\">\n",
       "      <th></th>\n",
       "      <th>tripduration</th>\n",
       "      <th>start station id</th>\n",
       "      <th>start station latitude</th>\n",
       "      <th>start station longitude</th>\n",
       "      <th>end station id</th>\n",
       "      <th>end station latitude</th>\n",
       "      <th>end station longitude</th>\n",
       "      <th>bikeid</th>\n",
       "      <th>birth year</th>\n",
       "      <th>gender</th>\n",
       "    </tr>\n",
       "  </thead>\n",
       "  <tbody>\n",
       "    <tr>\n",
       "      <th>count</th>\n",
       "      <td>1.048575e+06</td>\n",
       "      <td>1.048575e+06</td>\n",
       "      <td>1.048575e+06</td>\n",
       "      <td>1.048575e+06</td>\n",
       "      <td>1.048575e+06</td>\n",
       "      <td>1.048575e+06</td>\n",
       "      <td>1.048575e+06</td>\n",
       "      <td>1.048575e+06</td>\n",
       "      <td>1.048575e+06</td>\n",
       "      <td>1.048575e+06</td>\n",
       "    </tr>\n",
       "    <tr>\n",
       "      <th>mean</th>\n",
       "      <td>1.008363e+03</td>\n",
       "      <td>1.654709e+03</td>\n",
       "      <td>4.073735e+01</td>\n",
       "      <td>-7.398213e+01</td>\n",
       "      <td>1.648128e+03</td>\n",
       "      <td>4.073698e+01</td>\n",
       "      <td>-7.398234e+01</td>\n",
       "      <td>2.961550e+04</td>\n",
       "      <td>1.980670e+03</td>\n",
       "      <td>1.167502e+00</td>\n",
       "    </tr>\n",
       "    <tr>\n",
       "      <th>std</th>\n",
       "      <td>1.107315e+04</td>\n",
       "      <td>1.481409e+03</td>\n",
       "      <td>3.024812e-02</td>\n",
       "      <td>2.016519e-02</td>\n",
       "      <td>1.481127e+03</td>\n",
       "      <td>3.014928e-02</td>\n",
       "      <td>2.023096e-02</td>\n",
       "      <td>7.699267e+03</td>\n",
       "      <td>1.210761e+01</td>\n",
       "      <td>5.571929e-01</td>\n",
       "    </tr>\n",
       "    <tr>\n",
       "      <th>min</th>\n",
       "      <td>6.100000e+01</td>\n",
       "      <td>7.200000e+01</td>\n",
       "      <td>4.065540e+01</td>\n",
       "      <td>-7.402535e+01</td>\n",
       "      <td>7.200000e+01</td>\n",
       "      <td>4.065540e+01</td>\n",
       "      <td>-7.404282e+01</td>\n",
       "      <td>1.452900e+04</td>\n",
       "      <td>1.885000e+03</td>\n",
       "      <td>0.000000e+00</td>\n",
       "    </tr>\n",
       "    <tr>\n",
       "      <th>25%</th>\n",
       "      <td>3.860000e+02</td>\n",
       "      <td>3.770000e+02</td>\n",
       "      <td>4.071755e+01</td>\n",
       "      <td>-7.399596e+01</td>\n",
       "      <td>3.760000e+02</td>\n",
       "      <td>4.071749e+01</td>\n",
       "      <td>-7.399662e+01</td>\n",
       "      <td>2.508500e+04</td>\n",
       "      <td>1.970000e+03</td>\n",
       "      <td>1.000000e+00</td>\n",
       "    </tr>\n",
       "    <tr>\n",
       "      <th>50%</th>\n",
       "      <td>6.570000e+02</td>\n",
       "      <td>5.080000e+02</td>\n",
       "      <td>4.073705e+01</td>\n",
       "      <td>-7.398584e+01</td>\n",
       "      <td>5.070000e+02</td>\n",
       "      <td>4.073653e+01</td>\n",
       "      <td>-7.398627e+01</td>\n",
       "      <td>3.078300e+04</td>\n",
       "      <td>1.983000e+03</td>\n",
       "      <td>1.000000e+00</td>\n",
       "    </tr>\n",
       "    <tr>\n",
       "      <th>75%</th>\n",
       "      <td>1.139000e+03</td>\n",
       "      <td>3.295000e+03</td>\n",
       "      <td>4.075725e+01</td>\n",
       "      <td>-7.397121e+01</td>\n",
       "      <td>3.295000e+03</td>\n",
       "      <td>4.075680e+01</td>\n",
       "      <td>-7.397121e+01</td>\n",
       "      <td>3.526100e+04</td>\n",
       "      <td>1.990000e+03</td>\n",
       "      <td>2.000000e+00</td>\n",
       "    </tr>\n",
       "    <tr>\n",
       "      <th>max</th>\n",
       "      <td>2.904620e+06</td>\n",
       "      <td>3.811000e+03</td>\n",
       "      <td>4.081439e+01</td>\n",
       "      <td>-7.390774e+01</td>\n",
       "      <td>3.811000e+03</td>\n",
       "      <td>4.081439e+01</td>\n",
       "      <td>-7.390774e+01</td>\n",
       "      <td>4.097200e+04</td>\n",
       "      <td>2.003000e+03</td>\n",
       "      <td>2.000000e+00</td>\n",
       "    </tr>\n",
       "  </tbody>\n",
       "</table>\n",
       "</div>"
      ],
      "text/plain": [
       "       tripduration  start station id  start station latitude  \\\n",
       "count  1.048575e+06      1.048575e+06            1.048575e+06   \n",
       "mean   1.008363e+03      1.654709e+03            4.073735e+01   \n",
       "std    1.107315e+04      1.481409e+03            3.024812e-02   \n",
       "min    6.100000e+01      7.200000e+01            4.065540e+01   \n",
       "25%    3.860000e+02      3.770000e+02            4.071755e+01   \n",
       "50%    6.570000e+02      5.080000e+02            4.073705e+01   \n",
       "75%    1.139000e+03      3.295000e+03            4.075725e+01   \n",
       "max    2.904620e+06      3.811000e+03            4.081439e+01   \n",
       "\n",
       "       start station longitude  end station id  end station latitude  \\\n",
       "count             1.048575e+06    1.048575e+06          1.048575e+06   \n",
       "mean             -7.398213e+01    1.648128e+03          4.073698e+01   \n",
       "std               2.016519e-02    1.481127e+03          3.014928e-02   \n",
       "min              -7.402535e+01    7.200000e+01          4.065540e+01   \n",
       "25%              -7.399596e+01    3.760000e+02          4.071749e+01   \n",
       "50%              -7.398584e+01    5.070000e+02          4.073653e+01   \n",
       "75%              -7.397121e+01    3.295000e+03          4.075680e+01   \n",
       "max              -7.390774e+01    3.811000e+03          4.081439e+01   \n",
       "\n",
       "       end station longitude        bikeid    birth year        gender  \n",
       "count           1.048575e+06  1.048575e+06  1.048575e+06  1.048575e+06  \n",
       "mean           -7.398234e+01  2.961550e+04  1.980670e+03  1.167502e+00  \n",
       "std             2.023096e-02  7.699267e+03  1.210761e+01  5.571929e-01  \n",
       "min            -7.404282e+01  1.452900e+04  1.885000e+03  0.000000e+00  \n",
       "25%            -7.399662e+01  2.508500e+04  1.970000e+03  1.000000e+00  \n",
       "50%            -7.398627e+01  3.078300e+04  1.983000e+03  1.000000e+00  \n",
       "75%            -7.397121e+01  3.526100e+04  1.990000e+03  2.000000e+00  \n",
       "max            -7.390774e+01  4.097200e+04  2.003000e+03  2.000000e+00  "
      ]
     },
     "execution_count": 77,
     "metadata": {},
     "output_type": "execute_result"
    }
   ],
   "source": [
    "df.describe()"
   ]
  },
  {
   "cell_type": "code",
   "execution_count": 78,
   "metadata": {},
   "outputs": [
    {
     "data": {
      "text/plain": [
       "791"
      ]
     },
     "execution_count": 78,
     "metadata": {},
     "output_type": "execute_result"
    }
   ],
   "source": [
    "df['start station name'].nunique()"
   ]
  },
  {
   "cell_type": "markdown",
   "metadata": {},
   "source": [
    "## Data Cleaning"
   ]
  },
  {
   "cell_type": "markdown",
   "metadata": {},
   "source": [
    "<font color = 'green' size = '3'>Based on our Hypothesis, we have decided to remove starttime, stoptime and bikeid.<br>"
   ]
  },
  {
   "cell_type": "code",
   "execution_count": 79,
   "metadata": {},
   "outputs": [],
   "source": [
    "columns_todrop = ['starttime','stoptime','bikeid']\n",
    "\n",
    "df.drop(columns = columns_todrop, axis = 1, inplace = True)"
   ]
  },
  {
   "cell_type": "code",
   "execution_count": 80,
   "metadata": {},
   "outputs": [
    {
     "data": {
      "text/plain": [
       "(1048575, 12)"
      ]
     },
     "execution_count": 80,
     "metadata": {},
     "output_type": "execute_result"
    }
   ],
   "source": [
    "df.shape"
   ]
  },
  {
   "cell_type": "code",
   "execution_count": 81,
   "metadata": {},
   "outputs": [
    {
     "data": {
      "text/plain": [
       "<matplotlib.axes._subplots.AxesSubplot at 0x1a2516f0b8>"
      ]
     },
     "execution_count": 81,
     "metadata": {},
     "output_type": "execute_result"
    },
    {
     "data": {
      "image/png": "[encoded data removed]",
      "text/plain": [
       "<Figure size 1152x720 with 2 Axes>"
      ]
     },
     "metadata": {},
     "output_type": "display_data"
    }
   ],
   "source": [
    "feat_corr = df.corr()\n",
    "\n",
    "plt.figure( figsize = (16,10))\n",
    "sns.heatmap(feat_corr, cmap = 'coolwarm',annot = True)"
   ]
  },
  {
   "cell_type": "code",
   "execution_count": 82,
   "metadata": {},
   "outputs": [
    {
     "data": {
      "text/plain": [
       "tripduration               0\n",
       "start station id           0\n",
       "start station name         0\n",
       "start station latitude     0\n",
       "start station longitude    0\n",
       "end station id             0\n",
       "end station name           0\n",
       "end station latitude       0\n",
       "end station longitude      0\n",
       "usertype                   0\n",
       "birth year                 0\n",
       "gender                     0\n",
       "dtype: int64"
      ]
     },
     "execution_count": 82,
     "metadata": {},
     "output_type": "execute_result"
    }
   ],
   "source": [
    "df.isnull().sum()"
   ]
  },
  {
   "cell_type": "code",
   "execution_count": 83,
   "metadata": {},
   "outputs": [
    {
     "name": "stdout",
     "output_type": "stream",
     "text": [
      "Duplicate Rows:  4408\n"
     ]
    }
   ],
   "source": [
    "duplicate_df = df[df.duplicated()]\n",
    "print('Duplicate Rows: ', duplicate_df.shape[0])"
   ]
  },
  {
   "cell_type": "markdown",
   "metadata": {},
   "source": [
    "### Trip Duration - Feature Extraction"
   ]
  },
  {
   "cell_type": "markdown",
   "metadata": {},
   "source": [
    "<font color = 'green' size = '3'> For convenience, we will be converting tripduration from seconds to minutes and round off to 3 decimal places.<br>\n",
    "   "
   ]
  },
  {
   "cell_type": "code",
   "execution_count": 84,
   "metadata": {},
   "outputs": [],
   "source": [
    "df['tripduration'] = df['tripduration']/60"
   ]
  },
  {
   "cell_type": "code",
   "execution_count": 85,
   "metadata": {},
   "outputs": [
    {
     "data": {
      "text/html": [
       "<div>\n",
       "<style scoped>\n",
       "    .dataframe tbody tr th:only-of-type {\n",
       "        vertical-align: middle;\n",
       "    }\n",
       "\n",
       "    .dataframe tbody tr th {\n",
       "        vertical-align: top;\n",
       "    }\n",
       "\n",
       "    .dataframe thead th {\n",
       "        text-align: right;\n",
       "    }\n",
       "</style>\n",
       "<table border=\"1\" class=\"dataframe\">\n",
       "  <thead>\n",
       "    <tr style=\"text-align: right;\">\n",
       "      <th></th>\n",
       "      <th>tripduration</th>\n",
       "      <th>start station id</th>\n",
       "      <th>start station name</th>\n",
       "      <th>start station latitude</th>\n",
       "      <th>start station longitude</th>\n",
       "      <th>end station id</th>\n",
       "      <th>end station name</th>\n",
       "      <th>end station latitude</th>\n",
       "      <th>end station longitude</th>\n",
       "      <th>usertype</th>\n",
       "      <th>birth year</th>\n",
       "      <th>gender</th>\n",
       "    </tr>\n",
       "  </thead>\n",
       "  <tbody>\n",
       "    <tr>\n",
       "      <th>0</th>\n",
       "      <td>5.450000</td>\n",
       "      <td>3733</td>\n",
       "      <td>Avenue C &amp; E 18 St</td>\n",
       "      <td>40.730563</td>\n",
       "      <td>-73.973984</td>\n",
       "      <td>504</td>\n",
       "      <td>1 Ave &amp; E 16 St</td>\n",
       "      <td>40.732219</td>\n",
       "      <td>-73.981656</td>\n",
       "      <td>Subscriber</td>\n",
       "      <td>1968</td>\n",
       "      <td>1</td>\n",
       "    </tr>\n",
       "    <tr>\n",
       "      <th>1</th>\n",
       "      <td>19.083333</td>\n",
       "      <td>3329</td>\n",
       "      <td>Degraw St &amp; Smith St</td>\n",
       "      <td>40.682915</td>\n",
       "      <td>-73.993182</td>\n",
       "      <td>270</td>\n",
       "      <td>Adelphi St &amp; Myrtle Ave</td>\n",
       "      <td>40.693083</td>\n",
       "      <td>-73.971789</td>\n",
       "      <td>Customer</td>\n",
       "      <td>1969</td>\n",
       "      <td>0</td>\n",
       "    </tr>\n",
       "    <tr>\n",
       "      <th>2</th>\n",
       "      <td>21.550000</td>\n",
       "      <td>3168</td>\n",
       "      <td>Central Park West &amp; W 85 St</td>\n",
       "      <td>40.784727</td>\n",
       "      <td>-73.969617</td>\n",
       "      <td>423</td>\n",
       "      <td>W 54 St &amp; 9 Ave</td>\n",
       "      <td>40.765849</td>\n",
       "      <td>-73.986905</td>\n",
       "      <td>Customer</td>\n",
       "      <td>1969</td>\n",
       "      <td>0</td>\n",
       "    </tr>\n",
       "    <tr>\n",
       "      <th>3</th>\n",
       "      <td>29.216667</td>\n",
       "      <td>3299</td>\n",
       "      <td>E 98 St &amp; Park Ave</td>\n",
       "      <td>40.788130</td>\n",
       "      <td>-73.952060</td>\n",
       "      <td>3160</td>\n",
       "      <td>Central Park West &amp; W 76 St</td>\n",
       "      <td>40.778968</td>\n",
       "      <td>-73.973747</td>\n",
       "      <td>Subscriber</td>\n",
       "      <td>1990</td>\n",
       "      <td>1</td>\n",
       "    </tr>\n",
       "    <tr>\n",
       "      <th>4</th>\n",
       "      <td>10.216667</td>\n",
       "      <td>486</td>\n",
       "      <td>Broadway &amp; W 29 St</td>\n",
       "      <td>40.746201</td>\n",
       "      <td>-73.988557</td>\n",
       "      <td>478</td>\n",
       "      <td>11 Ave &amp; W 41 St</td>\n",
       "      <td>40.760301</td>\n",
       "      <td>-73.998842</td>\n",
       "      <td>Subscriber</td>\n",
       "      <td>1992</td>\n",
       "      <td>1</td>\n",
       "    </tr>\n",
       "  </tbody>\n",
       "</table>\n",
       "</div>"
      ],
      "text/plain": [
       "   tripduration  start station id           start station name  \\\n",
       "0      5.450000              3733           Avenue C & E 18 St   \n",
       "1     19.083333              3329         Degraw St & Smith St   \n",
       "2     21.550000              3168  Central Park West & W 85 St   \n",
       "3     29.216667              3299           E 98 St & Park Ave   \n",
       "4     10.216667               486           Broadway & W 29 St   \n",
       "\n",
       "   start station latitude  start station longitude  end station id  \\\n",
       "0               40.730563               -73.973984             504   \n",
       "1               40.682915               -73.993182             270   \n",
       "2               40.784727               -73.969617             423   \n",
       "3               40.788130               -73.952060            3160   \n",
       "4               40.746201               -73.988557             478   \n",
       "\n",
       "              end station name  end station latitude  end station longitude  \\\n",
       "0              1 Ave & E 16 St             40.732219             -73.981656   \n",
       "1      Adelphi St & Myrtle Ave             40.693083             -73.971789   \n",
       "2              W 54 St & 9 Ave             40.765849             -73.986905   \n",
       "3  Central Park West & W 76 St             40.778968             -73.973747   \n",
       "4             11 Ave & W 41 St             40.760301             -73.998842   \n",
       "\n",
       "     usertype  birth year  gender  \n",
       "0  Subscriber        1968       1  \n",
       "1    Customer        1969       0  \n",
       "2    Customer        1969       0  \n",
       "3  Subscriber        1990       1  \n",
       "4  Subscriber        1992       1  "
      ]
     },
     "execution_count": 85,
     "metadata": {},
     "output_type": "execute_result"
    }
   ],
   "source": [
    "df.head()"
   ]
  },
  {
   "cell_type": "code",
   "execution_count": 86,
   "metadata": {},
   "outputs": [],
   "source": [
    "df['tripduration'] = df['tripduration'].round(3)"
   ]
  },
  {
   "cell_type": "code",
   "execution_count": 87,
   "metadata": {
    "scrolled": true
   },
   "outputs": [
    {
     "data": {
      "text/html": [
       "<div>\n",
       "<style scoped>\n",
       "    .dataframe tbody tr th:only-of-type {\n",
       "        vertical-align: middle;\n",
       "    }\n",
       "\n",
       "    .dataframe tbody tr th {\n",
       "        vertical-align: top;\n",
       "    }\n",
       "\n",
       "    .dataframe thead th {\n",
       "        text-align: right;\n",
       "    }\n",
       "</style>\n",
       "<table border=\"1\" class=\"dataframe\">\n",
       "  <thead>\n",
       "    <tr style=\"text-align: right;\">\n",
       "      <th></th>\n",
       "      <th>tripduration</th>\n",
       "      <th>start station id</th>\n",
       "      <th>start station name</th>\n",
       "      <th>start station latitude</th>\n",
       "      <th>start station longitude</th>\n",
       "      <th>end station id</th>\n",
       "      <th>end station name</th>\n",
       "      <th>end station latitude</th>\n",
       "      <th>end station longitude</th>\n",
       "      <th>usertype</th>\n",
       "      <th>birth year</th>\n",
       "      <th>gender</th>\n",
       "    </tr>\n",
       "  </thead>\n",
       "  <tbody>\n",
       "    <tr>\n",
       "      <th>0</th>\n",
       "      <td>5.450</td>\n",
       "      <td>3733</td>\n",
       "      <td>Avenue C &amp; E 18 St</td>\n",
       "      <td>40.730563</td>\n",
       "      <td>-73.973984</td>\n",
       "      <td>504</td>\n",
       "      <td>1 Ave &amp; E 16 St</td>\n",
       "      <td>40.732219</td>\n",
       "      <td>-73.981656</td>\n",
       "      <td>Subscriber</td>\n",
       "      <td>1968</td>\n",
       "      <td>1</td>\n",
       "    </tr>\n",
       "    <tr>\n",
       "      <th>1</th>\n",
       "      <td>19.083</td>\n",
       "      <td>3329</td>\n",
       "      <td>Degraw St &amp; Smith St</td>\n",
       "      <td>40.682915</td>\n",
       "      <td>-73.993182</td>\n",
       "      <td>270</td>\n",
       "      <td>Adelphi St &amp; Myrtle Ave</td>\n",
       "      <td>40.693083</td>\n",
       "      <td>-73.971789</td>\n",
       "      <td>Customer</td>\n",
       "      <td>1969</td>\n",
       "      <td>0</td>\n",
       "    </tr>\n",
       "    <tr>\n",
       "      <th>2</th>\n",
       "      <td>21.550</td>\n",
       "      <td>3168</td>\n",
       "      <td>Central Park West &amp; W 85 St</td>\n",
       "      <td>40.784727</td>\n",
       "      <td>-73.969617</td>\n",
       "      <td>423</td>\n",
       "      <td>W 54 St &amp; 9 Ave</td>\n",
       "      <td>40.765849</td>\n",
       "      <td>-73.986905</td>\n",
       "      <td>Customer</td>\n",
       "      <td>1969</td>\n",
       "      <td>0</td>\n",
       "    </tr>\n",
       "    <tr>\n",
       "      <th>3</th>\n",
       "      <td>29.217</td>\n",
       "      <td>3299</td>\n",
       "      <td>E 98 St &amp; Park Ave</td>\n",
       "      <td>40.788130</td>\n",
       "      <td>-73.952060</td>\n",
       "      <td>3160</td>\n",
       "      <td>Central Park West &amp; W 76 St</td>\n",
       "      <td>40.778968</td>\n",
       "      <td>-73.973747</td>\n",
       "      <td>Subscriber</td>\n",
       "      <td>1990</td>\n",
       "      <td>1</td>\n",
       "    </tr>\n",
       "    <tr>\n",
       "      <th>4</th>\n",
       "      <td>10.217</td>\n",
       "      <td>486</td>\n",
       "      <td>Broadway &amp; W 29 St</td>\n",
       "      <td>40.746201</td>\n",
       "      <td>-73.988557</td>\n",
       "      <td>478</td>\n",
       "      <td>11 Ave &amp; W 41 St</td>\n",
       "      <td>40.760301</td>\n",
       "      <td>-73.998842</td>\n",
       "      <td>Subscriber</td>\n",
       "      <td>1992</td>\n",
       "      <td>1</td>\n",
       "    </tr>\n",
       "  </tbody>\n",
       "</table>\n",
       "</div>"
      ],
      "text/plain": [
       "   tripduration  start station id           start station name  \\\n",
       "0         5.450              3733           Avenue C & E 18 St   \n",
       "1        19.083              3329         Degraw St & Smith St   \n",
       "2        21.550              3168  Central Park West & W 85 St   \n",
       "3        29.217              3299           E 98 St & Park Ave   \n",
       "4        10.217               486           Broadway & W 29 St   \n",
       "\n",
       "   start station latitude  start station longitude  end station id  \\\n",
       "0               40.730563               -73.973984             504   \n",
       "1               40.682915               -73.993182             270   \n",
       "2               40.784727               -73.969617             423   \n",
       "3               40.788130               -73.952060            3160   \n",
       "4               40.746201               -73.988557             478   \n",
       "\n",
       "              end station name  end station latitude  end station longitude  \\\n",
       "0              1 Ave & E 16 St             40.732219             -73.981656   \n",
       "1      Adelphi St & Myrtle Ave             40.693083             -73.971789   \n",
       "2              W 54 St & 9 Ave             40.765849             -73.986905   \n",
       "3  Central Park West & W 76 St             40.778968             -73.973747   \n",
       "4             11 Ave & W 41 St             40.760301             -73.998842   \n",
       "\n",
       "     usertype  birth year  gender  \n",
       "0  Subscriber        1968       1  \n",
       "1    Customer        1969       0  \n",
       "2    Customer        1969       0  \n",
       "3  Subscriber        1990       1  \n",
       "4  Subscriber        1992       1  "
      ]
     },
     "execution_count": 87,
     "metadata": {},
     "output_type": "execute_result"
    }
   ],
   "source": [
    "df.head()"
   ]
  },
  {
   "cell_type": "markdown",
   "metadata": {},
   "source": [
    "### Latitude and Longitude - Feature Extraction"
   ]
  },
  {
   "cell_type": "markdown",
   "metadata": {},
   "source": [
    "<font color = 'green' size = '3'> We will be checking if the latitude and longitude values conform to the standard values  - (Latitude = -90 to +90, Longitude = -180 to +180).<br>"
   ]
  },
  {
   "cell_type": "code",
   "execution_count": 88,
   "metadata": {},
   "outputs": [
    {
     "data": {
      "text/plain": [
       "count    1.048575e+06\n",
       "mean     4.073735e+01\n",
       "std      3.024812e-02\n",
       "min      4.065540e+01\n",
       "25%      4.071755e+01\n",
       "50%      4.073705e+01\n",
       "75%      4.075725e+01\n",
       "max      4.081439e+01\n",
       "Name: start station latitude, dtype: float64"
      ]
     },
     "execution_count": 88,
     "metadata": {},
     "output_type": "execute_result"
    }
   ],
   "source": [
    "df['start station latitude'].describe()"
   ]
  },
  {
   "cell_type": "code",
   "execution_count": 89,
   "metadata": {},
   "outputs": [
    {
     "data": {
      "text/plain": [
       "count    1.048575e+06\n",
       "mean     4.073698e+01\n",
       "std      3.014928e-02\n",
       "min      4.065540e+01\n",
       "25%      4.071749e+01\n",
       "50%      4.073653e+01\n",
       "75%      4.075680e+01\n",
       "max      4.081439e+01\n",
       "Name: end station latitude, dtype: float64"
      ]
     },
     "execution_count": 89,
     "metadata": {},
     "output_type": "execute_result"
    }
   ],
   "source": [
    "df['end station latitude'].describe()"
   ]
  },
  {
   "cell_type": "code",
   "execution_count": 90,
   "metadata": {},
   "outputs": [
    {
     "data": {
      "text/plain": [
       "count    1.048575e+06\n",
       "mean    -7.398213e+01\n",
       "std      2.016519e-02\n",
       "min     -7.402535e+01\n",
       "25%     -7.399596e+01\n",
       "50%     -7.398584e+01\n",
       "75%     -7.397121e+01\n",
       "max     -7.390774e+01\n",
       "Name: start station longitude, dtype: float64"
      ]
     },
     "execution_count": 90,
     "metadata": {},
     "output_type": "execute_result"
    }
   ],
   "source": [
    "df['start station longitude'].describe()"
   ]
  },
  {
   "cell_type": "code",
   "execution_count": 91,
   "metadata": {},
   "outputs": [
    {
     "data": {
      "text/plain": [
       "count    1.048575e+06\n",
       "mean    -7.398234e+01\n",
       "std      2.023096e-02\n",
       "min     -7.404282e+01\n",
       "25%     -7.399662e+01\n",
       "50%     -7.398627e+01\n",
       "75%     -7.397121e+01\n",
       "max     -7.390774e+01\n",
       "Name: end station longitude, dtype: float64"
      ]
     },
     "execution_count": 91,
     "metadata": {},
     "output_type": "execute_result"
    }
   ],
   "source": [
    "df['end station longitude'].describe()"
   ]
  },
  {
   "cell_type": "code",
   "execution_count": 92,
   "metadata": {},
   "outputs": [],
   "source": [
    "start_lat = np.where((df['start station latitude']< -90) | (df['start station latitude'] > 90))"
   ]
  },
  {
   "cell_type": "code",
   "execution_count": 93,
   "metadata": {},
   "outputs": [
    {
     "data": {
      "text/plain": [
       "(array([], dtype=int64),)"
      ]
     },
     "execution_count": 93,
     "metadata": {},
     "output_type": "execute_result"
    }
   ],
   "source": [
    "start_lat"
   ]
  },
  {
   "cell_type": "code",
   "execution_count": 94,
   "metadata": {},
   "outputs": [],
   "source": [
    "start_long = np.where((df['start station longitude']< -180) | (df['start station longitude'] > 180))"
   ]
  },
  {
   "cell_type": "code",
   "execution_count": 95,
   "metadata": {},
   "outputs": [
    {
     "data": {
      "text/plain": [
       "(array([], dtype=int64),)"
      ]
     },
     "execution_count": 95,
     "metadata": {},
     "output_type": "execute_result"
    }
   ],
   "source": [
    "start_long"
   ]
  },
  {
   "cell_type": "code",
   "execution_count": 96,
   "metadata": {},
   "outputs": [],
   "source": [
    "end_lat = np.where((df['end station latitude']< -90) | (df['end station latitude'] > 90))"
   ]
  },
  {
   "cell_type": "code",
   "execution_count": 97,
   "metadata": {},
   "outputs": [
    {
     "data": {
      "text/plain": [
       "(array([], dtype=int64),)"
      ]
     },
     "execution_count": 97,
     "metadata": {},
     "output_type": "execute_result"
    }
   ],
   "source": [
    "end_lat"
   ]
  },
  {
   "cell_type": "code",
   "execution_count": 98,
   "metadata": {},
   "outputs": [],
   "source": [
    "end_long = np.where((df['end station longitude']< -180) | (df['end station longitude'] > 180))"
   ]
  },
  {
   "cell_type": "code",
   "execution_count": 99,
   "metadata": {},
   "outputs": [
    {
     "data": {
      "text/plain": [
       "(array([], dtype=int64),)"
      ]
     },
     "execution_count": 99,
     "metadata": {},
     "output_type": "execute_result"
    }
   ],
   "source": [
    "end_long"
   ]
  },
  {
   "cell_type": "markdown",
   "metadata": {},
   "source": [
    "<font color = 'green' size = '3'>Considering the city of New York, we have to keep in mind the longitude and latitude boundaries of the city. After some domain research, we found out that,<br>\n",
    "\n",
    "<b>Longitude Boundary - (-74.03, -73.75)</b><br>\n",
    "\n",
    "\n",
    "<b>Latitude Boundary - (40.63, 40.85)</b><br>\n",
    "    \n",
    "Hence, we need to remove values outside this boundary."
   ]
  },
  {
   "cell_type": "code",
   "execution_count": 100,
   "metadata": {},
   "outputs": [],
   "source": [
    "nyc_boundary = {'min_lng':-74.263242,\n",
    "              'min_lat':40.573143,\n",
    "              'max_lng':-72.986532, \n",
    "              'max_lat':41.709555}"
   ]
  },
  {
   "cell_type": "code",
   "execution_count": 101,
   "metadata": {},
   "outputs": [],
   "source": [
    "outside_nyc = np.where(~((df['start station longitude'] >= nyc_boundary['min_lng'] ) & (df['start station longitude'] <= nyc_boundary['max_lng']) &\n",
    "            (df['start station latitude'] >= nyc_boundary['min_lat']) & (df['start station latitude'] <= nyc_boundary['max_lat']) &\n",
    "            (df['end station longitude'] >= nyc_boundary['min_lng']) & (df['end station longitude'] <= nyc_boundary['max_lng']) &\n",
    "            (df['end station latitude'] >=nyc_boundary['min_lat']) & (df['end station latitude'] <= nyc_boundary['max_lat'])))"
   ]
  },
  {
   "cell_type": "code",
   "execution_count": 102,
   "metadata": {},
   "outputs": [
    {
     "data": {
      "text/plain": [
       "(array([], dtype=int64),)"
      ]
     },
     "execution_count": 102,
     "metadata": {},
     "output_type": "execute_result"
    }
   ],
   "source": [
    "outside_nyc"
   ]
  },
  {
   "cell_type": "markdown",
   "metadata": {},
   "source": [
    "### Haversine Distance"
   ]
  },
  {
   "cell_type": "markdown",
   "metadata": {},
   "source": [
    "<font color = 'green' size = '3'> Haversine distance calculates the distance between two locations based on the latitude and longitude values.<br>"
   ]
  },
  {
   "cell_type": "code",
   "execution_count": 103,
   "metadata": {},
   "outputs": [],
   "source": [
    "def distance(lat1, long1, lat2, long2):\n",
    "    data = [df]\n",
    "    for i in data:\n",
    "        R = 3959 #radius of earth in miles\n",
    "        phi1 = np.radians(i[lat1])\n",
    "        phi2 = np.radians(i[lat2])\n",
    "    \n",
    "        delta_phi = np.radians(i[lat2]-i[lat1])\n",
    "        delta_lambda = np.radians(i[long2]-i[long1])\n",
    "    \n",
    "        a = np.sin(delta_phi / 2.0) ** 2 + np.cos(phi1) * np.cos(phi2) * np.sin(delta_lambda / 2.0) ** 2\n",
    "    \n",
    "        c = 2 * np.arctan2(np.sqrt(a), np.sqrt(1-a))\n",
    "    \n",
    "        d = (R * c)\n",
    "        i['trip_distance'] = d\n",
    "    return d"
   ]
  },
  {
   "cell_type": "code",
   "execution_count": 104,
   "metadata": {},
   "outputs": [
    {
     "data": {
      "text/plain": [
       "0          0.417659\n",
       "1          1.322852\n",
       "2          1.587362\n",
       "3          1.299336\n",
       "4          1.113123\n",
       "5          0.604318\n",
       "6          0.604318\n",
       "7          1.611522\n",
       "8          0.855361\n",
       "9          0.443298\n",
       "10         3.149221\n",
       "11         1.402630\n",
       "12         0.342587\n",
       "13         0.409985\n",
       "14         1.611522\n",
       "15         0.313673\n",
       "16         0.803138\n",
       "17         0.852498\n",
       "18         1.357578\n",
       "19         1.587362\n",
       "20         0.572293\n",
       "21         0.285022\n",
       "22         2.531804\n",
       "23         1.310354\n",
       "24         0.550658\n",
       "25         1.241245\n",
       "26         1.267014\n",
       "27         0.322192\n",
       "28         3.149221\n",
       "29         1.287900\n",
       "             ...   \n",
       "1048545    1.330387\n",
       "1048546    3.746732\n",
       "1048547    0.341488\n",
       "1048548    0.575990\n",
       "1048549    3.012852\n",
       "1048550    2.049733\n",
       "1048551    0.268771\n",
       "1048552    0.832066\n",
       "1048553    1.156876\n",
       "1048554    0.603822\n",
       "1048555    0.816552\n",
       "1048556    0.839189\n",
       "1048557    1.643123\n",
       "1048558    2.501984\n",
       "1048559    1.860250\n",
       "1048560    2.449362\n",
       "1048561    0.550658\n",
       "1048562    0.649712\n",
       "1048563    0.176160\n",
       "1048564    0.558503\n",
       "1048565    1.444860\n",
       "1048566    0.403261\n",
       "1048567    0.923268\n",
       "1048568    1.318775\n",
       "1048569    0.622849\n",
       "1048570    2.872123\n",
       "1048571    1.062663\n",
       "1048572    0.587214\n",
       "1048573    0.341488\n",
       "1048574    2.319069\n",
       "Length: 1048575, dtype: float64"
      ]
     },
     "execution_count": 104,
     "metadata": {},
     "output_type": "execute_result"
    }
   ],
   "source": [
    "distance('start station latitude', 'start station longitude', 'end station latitude','end station longitude')"
   ]
  },
  {
   "cell_type": "code",
   "execution_count": 105,
   "metadata": {},
   "outputs": [
    {
     "data": {
      "text/html": [
       "<div>\n",
       "<style scoped>\n",
       "    .dataframe tbody tr th:only-of-type {\n",
       "        vertical-align: middle;\n",
       "    }\n",
       "\n",
       "    .dataframe tbody tr th {\n",
       "        vertical-align: top;\n",
       "    }\n",
       "\n",
       "    .dataframe thead th {\n",
       "        text-align: right;\n",
       "    }\n",
       "</style>\n",
       "<table border=\"1\" class=\"dataframe\">\n",
       "  <thead>\n",
       "    <tr style=\"text-align: right;\">\n",
       "      <th></th>\n",
       "      <th>tripduration</th>\n",
       "      <th>start station id</th>\n",
       "      <th>start station name</th>\n",
       "      <th>start station latitude</th>\n",
       "      <th>start station longitude</th>\n",
       "      <th>end station id</th>\n",
       "      <th>end station name</th>\n",
       "      <th>end station latitude</th>\n",
       "      <th>end station longitude</th>\n",
       "      <th>usertype</th>\n",
       "      <th>birth year</th>\n",
       "      <th>gender</th>\n",
       "      <th>trip_distance</th>\n",
       "    </tr>\n",
       "  </thead>\n",
       "  <tbody>\n",
       "    <tr>\n",
       "      <th>0</th>\n",
       "      <td>5.450</td>\n",
       "      <td>3733</td>\n",
       "      <td>Avenue C &amp; E 18 St</td>\n",
       "      <td>40.730563</td>\n",
       "      <td>-73.973984</td>\n",
       "      <td>504</td>\n",
       "      <td>1 Ave &amp; E 16 St</td>\n",
       "      <td>40.732219</td>\n",
       "      <td>-73.981656</td>\n",
       "      <td>Subscriber</td>\n",
       "      <td>1968</td>\n",
       "      <td>1</td>\n",
       "      <td>0.417659</td>\n",
       "    </tr>\n",
       "    <tr>\n",
       "      <th>1</th>\n",
       "      <td>19.083</td>\n",
       "      <td>3329</td>\n",
       "      <td>Degraw St &amp; Smith St</td>\n",
       "      <td>40.682915</td>\n",
       "      <td>-73.993182</td>\n",
       "      <td>270</td>\n",
       "      <td>Adelphi St &amp; Myrtle Ave</td>\n",
       "      <td>40.693083</td>\n",
       "      <td>-73.971789</td>\n",
       "      <td>Customer</td>\n",
       "      <td>1969</td>\n",
       "      <td>0</td>\n",
       "      <td>1.322852</td>\n",
       "    </tr>\n",
       "    <tr>\n",
       "      <th>2</th>\n",
       "      <td>21.550</td>\n",
       "      <td>3168</td>\n",
       "      <td>Central Park West &amp; W 85 St</td>\n",
       "      <td>40.784727</td>\n",
       "      <td>-73.969617</td>\n",
       "      <td>423</td>\n",
       "      <td>W 54 St &amp; 9 Ave</td>\n",
       "      <td>40.765849</td>\n",
       "      <td>-73.986905</td>\n",
       "      <td>Customer</td>\n",
       "      <td>1969</td>\n",
       "      <td>0</td>\n",
       "      <td>1.587362</td>\n",
       "    </tr>\n",
       "    <tr>\n",
       "      <th>3</th>\n",
       "      <td>29.217</td>\n",
       "      <td>3299</td>\n",
       "      <td>E 98 St &amp; Park Ave</td>\n",
       "      <td>40.788130</td>\n",
       "      <td>-73.952060</td>\n",
       "      <td>3160</td>\n",
       "      <td>Central Park West &amp; W 76 St</td>\n",
       "      <td>40.778968</td>\n",
       "      <td>-73.973747</td>\n",
       "      <td>Subscriber</td>\n",
       "      <td>1990</td>\n",
       "      <td>1</td>\n",
       "      <td>1.299336</td>\n",
       "    </tr>\n",
       "    <tr>\n",
       "      <th>4</th>\n",
       "      <td>10.217</td>\n",
       "      <td>486</td>\n",
       "      <td>Broadway &amp; W 29 St</td>\n",
       "      <td>40.746201</td>\n",
       "      <td>-73.988557</td>\n",
       "      <td>478</td>\n",
       "      <td>11 Ave &amp; W 41 St</td>\n",
       "      <td>40.760301</td>\n",
       "      <td>-73.998842</td>\n",
       "      <td>Subscriber</td>\n",
       "      <td>1992</td>\n",
       "      <td>1</td>\n",
       "      <td>1.113123</td>\n",
       "    </tr>\n",
       "  </tbody>\n",
       "</table>\n",
       "</div>"
      ],
      "text/plain": [
       "   tripduration  start station id           start station name  \\\n",
       "0         5.450              3733           Avenue C & E 18 St   \n",
       "1        19.083              3329         Degraw St & Smith St   \n",
       "2        21.550              3168  Central Park West & W 85 St   \n",
       "3        29.217              3299           E 98 St & Park Ave   \n",
       "4        10.217               486           Broadway & W 29 St   \n",
       "\n",
       "   start station latitude  start station longitude  end station id  \\\n",
       "0               40.730563               -73.973984             504   \n",
       "1               40.682915               -73.993182             270   \n",
       "2               40.784727               -73.969617             423   \n",
       "3               40.788130               -73.952060            3160   \n",
       "4               40.746201               -73.988557             478   \n",
       "\n",
       "              end station name  end station latitude  end station longitude  \\\n",
       "0              1 Ave & E 16 St             40.732219             -73.981656   \n",
       "1      Adelphi St & Myrtle Ave             40.693083             -73.971789   \n",
       "2              W 54 St & 9 Ave             40.765849             -73.986905   \n",
       "3  Central Park West & W 76 St             40.778968             -73.973747   \n",
       "4             11 Ave & W 41 St             40.760301             -73.998842   \n",
       "\n",
       "     usertype  birth year  gender  trip_distance  \n",
       "0  Subscriber        1968       1       0.417659  \n",
       "1    Customer        1969       0       1.322852  \n",
       "2    Customer        1969       0       1.587362  \n",
       "3  Subscriber        1990       1       1.299336  \n",
       "4  Subscriber        1992       1       1.113123  "
      ]
     },
     "execution_count": 105,
     "metadata": {},
     "output_type": "execute_result"
    }
   ],
   "source": [
    "df.head()"
   ]
  },
  {
   "cell_type": "markdown",
   "metadata": {},
   "source": [
    "### Gender Column"
   ]
  },
  {
   "cell_type": "code",
   "execution_count": 106,
   "metadata": {},
   "outputs": [],
   "source": [
    "def replaceGender(x):\n",
    "    gender = ''\n",
    "    try:\n",
    "        if x == 0:\n",
    "            gender = 'Unknown'\n",
    "        elif x == 1:\n",
    "            gender = 'Male'\n",
    "        else:\n",
    "            gender = 'Female'\n",
    "    except Exception as e:\n",
    "        print(\"Exception\",x)\n",
    "        return x\n",
    "    return gender"
   ]
  },
  {
   "cell_type": "code",
   "execution_count": 107,
   "metadata": {},
   "outputs": [],
   "source": [
    "df['gender'] = df['gender'].apply(replaceGender)"
   ]
  },
  {
   "cell_type": "markdown",
   "metadata": {},
   "source": [
    "<font color = 'green' size = '3'>We created a function for gender where we have mapped numerical values to categorical values for better visualization and analysis of the data."
   ]
  },
  {
   "cell_type": "code",
   "execution_count": 108,
   "metadata": {
    "scrolled": true
   },
   "outputs": [
    {
     "data": {
      "text/html": [
       "<div>\n",
       "<style scoped>\n",
       "    .dataframe tbody tr th:only-of-type {\n",
       "        vertical-align: middle;\n",
       "    }\n",
       "\n",
       "    .dataframe tbody tr th {\n",
       "        vertical-align: top;\n",
       "    }\n",
       "\n",
       "    .dataframe thead th {\n",
       "        text-align: right;\n",
       "    }\n",
       "</style>\n",
       "<table border=\"1\" class=\"dataframe\">\n",
       "  <thead>\n",
       "    <tr style=\"text-align: right;\">\n",
       "      <th></th>\n",
       "      <th>tripduration</th>\n",
       "      <th>start station id</th>\n",
       "      <th>start station name</th>\n",
       "      <th>start station latitude</th>\n",
       "      <th>start station longitude</th>\n",
       "      <th>end station id</th>\n",
       "      <th>end station name</th>\n",
       "      <th>end station latitude</th>\n",
       "      <th>end station longitude</th>\n",
       "      <th>usertype</th>\n",
       "      <th>birth year</th>\n",
       "      <th>gender</th>\n",
       "      <th>trip_distance</th>\n",
       "    </tr>\n",
       "  </thead>\n",
       "  <tbody>\n",
       "    <tr>\n",
       "      <th>0</th>\n",
       "      <td>5.450</td>\n",
       "      <td>3733</td>\n",
       "      <td>Avenue C &amp; E 18 St</td>\n",
       "      <td>40.730563</td>\n",
       "      <td>-73.973984</td>\n",
       "      <td>504</td>\n",
       "      <td>1 Ave &amp; E 16 St</td>\n",
       "      <td>40.732219</td>\n",
       "      <td>-73.981656</td>\n",
       "      <td>Subscriber</td>\n",
       "      <td>1968</td>\n",
       "      <td>Male</td>\n",
       "      <td>0.417659</td>\n",
       "    </tr>\n",
       "    <tr>\n",
       "      <th>1</th>\n",
       "      <td>19.083</td>\n",
       "      <td>3329</td>\n",
       "      <td>Degraw St &amp; Smith St</td>\n",
       "      <td>40.682915</td>\n",
       "      <td>-73.993182</td>\n",
       "      <td>270</td>\n",
       "      <td>Adelphi St &amp; Myrtle Ave</td>\n",
       "      <td>40.693083</td>\n",
       "      <td>-73.971789</td>\n",
       "      <td>Customer</td>\n",
       "      <td>1969</td>\n",
       "      <td>Unknown</td>\n",
       "      <td>1.322852</td>\n",
       "    </tr>\n",
       "    <tr>\n",
       "      <th>2</th>\n",
       "      <td>21.550</td>\n",
       "      <td>3168</td>\n",
       "      <td>Central Park West &amp; W 85 St</td>\n",
       "      <td>40.784727</td>\n",
       "      <td>-73.969617</td>\n",
       "      <td>423</td>\n",
       "      <td>W 54 St &amp; 9 Ave</td>\n",
       "      <td>40.765849</td>\n",
       "      <td>-73.986905</td>\n",
       "      <td>Customer</td>\n",
       "      <td>1969</td>\n",
       "      <td>Unknown</td>\n",
       "      <td>1.587362</td>\n",
       "    </tr>\n",
       "    <tr>\n",
       "      <th>3</th>\n",
       "      <td>29.217</td>\n",
       "      <td>3299</td>\n",
       "      <td>E 98 St &amp; Park Ave</td>\n",
       "      <td>40.788130</td>\n",
       "      <td>-73.952060</td>\n",
       "      <td>3160</td>\n",
       "      <td>Central Park West &amp; W 76 St</td>\n",
       "      <td>40.778968</td>\n",
       "      <td>-73.973747</td>\n",
       "      <td>Subscriber</td>\n",
       "      <td>1990</td>\n",
       "      <td>Male</td>\n",
       "      <td>1.299336</td>\n",
       "    </tr>\n",
       "    <tr>\n",
       "      <th>4</th>\n",
       "      <td>10.217</td>\n",
       "      <td>486</td>\n",
       "      <td>Broadway &amp; W 29 St</td>\n",
       "      <td>40.746201</td>\n",
       "      <td>-73.988557</td>\n",
       "      <td>478</td>\n",
       "      <td>11 Ave &amp; W 41 St</td>\n",
       "      <td>40.760301</td>\n",
       "      <td>-73.998842</td>\n",
       "      <td>Subscriber</td>\n",
       "      <td>1992</td>\n",
       "      <td>Male</td>\n",
       "      <td>1.113123</td>\n",
       "    </tr>\n",
       "  </tbody>\n",
       "</table>\n",
       "</div>"
      ],
      "text/plain": [
       "   tripduration  start station id           start station name  \\\n",
       "0         5.450              3733           Avenue C & E 18 St   \n",
       "1        19.083              3329         Degraw St & Smith St   \n",
       "2        21.550              3168  Central Park West & W 85 St   \n",
       "3        29.217              3299           E 98 St & Park Ave   \n",
       "4        10.217               486           Broadway & W 29 St   \n",
       "\n",
       "   start station latitude  start station longitude  end station id  \\\n",
       "0               40.730563               -73.973984             504   \n",
       "1               40.682915               -73.993182             270   \n",
       "2               40.784727               -73.969617             423   \n",
       "3               40.788130               -73.952060            3160   \n",
       "4               40.746201               -73.988557             478   \n",
       "\n",
       "              end station name  end station latitude  end station longitude  \\\n",
       "0              1 Ave & E 16 St             40.732219             -73.981656   \n",
       "1      Adelphi St & Myrtle Ave             40.693083             -73.971789   \n",
       "2              W 54 St & 9 Ave             40.765849             -73.986905   \n",
       "3  Central Park West & W 76 St             40.778968             -73.973747   \n",
       "4             11 Ave & W 41 St             40.760301             -73.998842   \n",
       "\n",
       "     usertype  birth year   gender  trip_distance  \n",
       "0  Subscriber        1968     Male       0.417659  \n",
       "1    Customer        1969  Unknown       1.322852  \n",
       "2    Customer        1969  Unknown       1.587362  \n",
       "3  Subscriber        1990     Male       1.299336  \n",
       "4  Subscriber        1992     Male       1.113123  "
      ]
     },
     "execution_count": 108,
     "metadata": {},
     "output_type": "execute_result"
    }
   ],
   "source": [
    "df.head()"
   ]
  },
  {
   "cell_type": "code",
   "execution_count": 109,
   "metadata": {},
   "outputs": [],
   "source": [
    "from datetime import datetime\n",
    "now = datetime.now()\n",
    "df[\"age\"] =  now.year - df[\"birth year\"]"
   ]
  },
  {
   "cell_type": "markdown",
   "metadata": {},
   "source": [
    "<font color = 'green' size = '3'>From the birth year column we featured engineered the column name \"age\" for further analysis on the age group using the datetime library."
   ]
  },
  {
   "cell_type": "code",
   "execution_count": 110,
   "metadata": {},
   "outputs": [
    {
     "data": {
      "text/html": [
       "<div>\n",
       "<style scoped>\n",
       "    .dataframe tbody tr th:only-of-type {\n",
       "        vertical-align: middle;\n",
       "    }\n",
       "\n",
       "    .dataframe tbody tr th {\n",
       "        vertical-align: top;\n",
       "    }\n",
       "\n",
       "    .dataframe thead th {\n",
       "        text-align: right;\n",
       "    }\n",
       "</style>\n",
       "<table border=\"1\" class=\"dataframe\">\n",
       "  <thead>\n",
       "    <tr style=\"text-align: right;\">\n",
       "      <th></th>\n",
       "      <th>tripduration</th>\n",
       "      <th>start station id</th>\n",
       "      <th>start station name</th>\n",
       "      <th>start station latitude</th>\n",
       "      <th>start station longitude</th>\n",
       "      <th>end station id</th>\n",
       "      <th>end station name</th>\n",
       "      <th>end station latitude</th>\n",
       "      <th>end station longitude</th>\n",
       "      <th>usertype</th>\n",
       "      <th>birth year</th>\n",
       "      <th>gender</th>\n",
       "      <th>trip_distance</th>\n",
       "      <th>age</th>\n",
       "    </tr>\n",
       "  </thead>\n",
       "  <tbody>\n",
       "    <tr>\n",
       "      <th>0</th>\n",
       "      <td>5.450</td>\n",
       "      <td>3733</td>\n",
       "      <td>Avenue C &amp; E 18 St</td>\n",
       "      <td>40.730563</td>\n",
       "      <td>-73.973984</td>\n",
       "      <td>504</td>\n",
       "      <td>1 Ave &amp; E 16 St</td>\n",
       "      <td>40.732219</td>\n",
       "      <td>-73.981656</td>\n",
       "      <td>Subscriber</td>\n",
       "      <td>1968</td>\n",
       "      <td>Male</td>\n",
       "      <td>0.417659</td>\n",
       "      <td>51</td>\n",
       "    </tr>\n",
       "    <tr>\n",
       "      <th>1</th>\n",
       "      <td>19.083</td>\n",
       "      <td>3329</td>\n",
       "      <td>Degraw St &amp; Smith St</td>\n",
       "      <td>40.682915</td>\n",
       "      <td>-73.993182</td>\n",
       "      <td>270</td>\n",
       "      <td>Adelphi St &amp; Myrtle Ave</td>\n",
       "      <td>40.693083</td>\n",
       "      <td>-73.971789</td>\n",
       "      <td>Customer</td>\n",
       "      <td>1969</td>\n",
       "      <td>Unknown</td>\n",
       "      <td>1.322852</td>\n",
       "      <td>50</td>\n",
       "    </tr>\n",
       "    <tr>\n",
       "      <th>2</th>\n",
       "      <td>21.550</td>\n",
       "      <td>3168</td>\n",
       "      <td>Central Park West &amp; W 85 St</td>\n",
       "      <td>40.784727</td>\n",
       "      <td>-73.969617</td>\n",
       "      <td>423</td>\n",
       "      <td>W 54 St &amp; 9 Ave</td>\n",
       "      <td>40.765849</td>\n",
       "      <td>-73.986905</td>\n",
       "      <td>Customer</td>\n",
       "      <td>1969</td>\n",
       "      <td>Unknown</td>\n",
       "      <td>1.587362</td>\n",
       "      <td>50</td>\n",
       "    </tr>\n",
       "    <tr>\n",
       "      <th>3</th>\n",
       "      <td>29.217</td>\n",
       "      <td>3299</td>\n",
       "      <td>E 98 St &amp; Park Ave</td>\n",
       "      <td>40.788130</td>\n",
       "      <td>-73.952060</td>\n",
       "      <td>3160</td>\n",
       "      <td>Central Park West &amp; W 76 St</td>\n",
       "      <td>40.778968</td>\n",
       "      <td>-73.973747</td>\n",
       "      <td>Subscriber</td>\n",
       "      <td>1990</td>\n",
       "      <td>Male</td>\n",
       "      <td>1.299336</td>\n",
       "      <td>29</td>\n",
       "    </tr>\n",
       "    <tr>\n",
       "      <th>4</th>\n",
       "      <td>10.217</td>\n",
       "      <td>486</td>\n",
       "      <td>Broadway &amp; W 29 St</td>\n",
       "      <td>40.746201</td>\n",
       "      <td>-73.988557</td>\n",
       "      <td>478</td>\n",
       "      <td>11 Ave &amp; W 41 St</td>\n",
       "      <td>40.760301</td>\n",
       "      <td>-73.998842</td>\n",
       "      <td>Subscriber</td>\n",
       "      <td>1992</td>\n",
       "      <td>Male</td>\n",
       "      <td>1.113123</td>\n",
       "      <td>27</td>\n",
       "    </tr>\n",
       "  </tbody>\n",
       "</table>\n",
       "</div>"
      ],
      "text/plain": [
       "   tripduration  start station id           start station name  \\\n",
       "0         5.450              3733           Avenue C & E 18 St   \n",
       "1        19.083              3329         Degraw St & Smith St   \n",
       "2        21.550              3168  Central Park West & W 85 St   \n",
       "3        29.217              3299           E 98 St & Park Ave   \n",
       "4        10.217               486           Broadway & W 29 St   \n",
       "\n",
       "   start station latitude  start station longitude  end station id  \\\n",
       "0               40.730563               -73.973984             504   \n",
       "1               40.682915               -73.993182             270   \n",
       "2               40.784727               -73.969617             423   \n",
       "3               40.788130               -73.952060            3160   \n",
       "4               40.746201               -73.988557             478   \n",
       "\n",
       "              end station name  end station latitude  end station longitude  \\\n",
       "0              1 Ave & E 16 St             40.732219             -73.981656   \n",
       "1      Adelphi St & Myrtle Ave             40.693083             -73.971789   \n",
       "2              W 54 St & 9 Ave             40.765849             -73.986905   \n",
       "3  Central Park West & W 76 St             40.778968             -73.973747   \n",
       "4             11 Ave & W 41 St             40.760301             -73.998842   \n",
       "\n",
       "     usertype  birth year   gender  trip_distance  age  \n",
       "0  Subscriber        1968     Male       0.417659   51  \n",
       "1    Customer        1969  Unknown       1.322852   50  \n",
       "2    Customer        1969  Unknown       1.587362   50  \n",
       "3  Subscriber        1990     Male       1.299336   29  \n",
       "4  Subscriber        1992     Male       1.113123   27  "
      ]
     },
     "execution_count": 110,
     "metadata": {},
     "output_type": "execute_result"
    }
   ],
   "source": [
    "df.head()"
   ]
  },
  {
   "cell_type": "markdown",
   "metadata": {},
   "source": [
    "<font color = 'green' size = '3'> We have created a dictionary for the 5 boroughs of New York, namely - Manhattan, Queens, Brooklyn, Bronx and Staten Island, with their boundary coordinates.<br>"
   ]
  },
  {
   "cell_type": "code",
   "execution_count": 111,
   "metadata": {},
   "outputs": [],
   "source": [
    "nyc_boroughs = {\n",
    "    \n",
    "        'manhattan':{\n",
    "        'min_lng':-74.0479,\n",
    "        'min_lat':40.6829,\n",
    "        'max_lng':-73.9067,\n",
    "        'max_lat':40.8820\n",
    "    },\n",
    "    \n",
    "    'queens':{\n",
    "        'min_lng':-73.9630,\n",
    "        'min_lat':40.5431,\n",
    "        'max_lng':-73.7004,\n",
    "        'max_lat':40.8007\n",
    "\n",
    "    },\n",
    "\n",
    "    'brooklyn':{\n",
    "        'min_lng':-74.0421,\n",
    "        'min_lat':40.5707,\n",
    "        'max_lng':-73.8334,\n",
    "        'max_lat':40.7395\n",
    "\n",
    "    },\n",
    "\n",
    "    'bronx':{\n",
    "        'min_lng':-73.9339,\n",
    "        'min_lat':40.7855,\n",
    "        'max_lng':-73.7654,\n",
    "        'max_lat':40.9176\n",
    "\n",
    "    },\n",
    "\n",
    "    'staten_island':{\n",
    "        'min_lng':-74.2558,\n",
    "        'min_lat':40.4960,\n",
    "        'max_lng':-74.0522,\n",
    "        'max_lat':40.6490\n",
    "\n",
    "    }\n",
    "    \n",
    "}"
   ]
  },
  {
   "cell_type": "code",
   "execution_count": 112,
   "metadata": {},
   "outputs": [],
   "source": [
    "def borough(lat,long):\n",
    "    locs=nyc_boroughs.keys()\n",
    "    for loc in locs:\n",
    "        if lat>=nyc_boroughs[loc]['min_lat'] and lat<=nyc_boroughs[loc]['max_lat'] and long>=nyc_boroughs[loc]['min_lng'] and long<=nyc_boroughs[loc]['max_lng']:\n",
    "            return loc\n",
    "    return 'others'"
   ]
  },
  {
   "cell_type": "code",
   "execution_count": 113,
   "metadata": {},
   "outputs": [],
   "source": [
    "df['pickup_borough'] = df.apply(lambda row : borough(row['start station latitude'],row['start station longitude']), axis = 1)"
   ]
  },
  {
   "cell_type": "code",
   "execution_count": 114,
   "metadata": {},
   "outputs": [],
   "source": [
    "df['dropoff_borough'] = df.apply(lambda row : borough(row['end station latitude'],row['end station longitude']), axis = 1)"
   ]
  },
  {
   "cell_type": "markdown",
   "metadata": {},
   "source": [
    "<font color = 'green' size = '3'> We have created a function to get the latitude and longitude values and then map to the corresponding boroughs as per the boundary coordinates.<br>"
   ]
  },
  {
   "cell_type": "markdown",
   "metadata": {},
   "source": [
    "## Exploratory Data Analysis"
   ]
  },
  {
   "cell_type": "markdown",
   "metadata": {},
   "source": [
    "<font color = 'green' size = '3'> 1. Which station has highest usage?"
   ]
  },
  {
   "cell_type": "code",
   "execution_count": 115,
   "metadata": {},
   "outputs": [
    {
     "name": "stdout",
     "output_type": "stream",
     "text": [
      "[('Pershing Square North', 7669)]\n"
     ]
    }
   ],
   "source": [
    "from collections import Counter\n",
    "stationid=[]\n",
    "stationid = df['start station name']\n",
    "most_used_station = Counter(stationid)\n",
    "print(most_used_station.most_common(1))"
   ]
  },
  {
   "cell_type": "markdown",
   "metadata": {},
   "source": [
    "<font color = 'green' size = '3'> The Station with the highest service usage is <b> Pershing Square North</b> with the count of 7669."
   ]
  },
  {
   "cell_type": "code",
   "execution_count": 116,
   "metadata": {},
   "outputs": [],
   "source": [
    "import folium\n",
    "from folium import FeatureGroup, LayerControl, Map, Marker\n",
    "from folium.plugins import HeatMap\n",
    "from folium.plugins import TimestampedGeoJson\n",
    "from folium.plugins import MarkerCluster"
   ]
  },
  {
   "cell_type": "code",
   "execution_count": 117,
   "metadata": {},
   "outputs": [
    {
     "data": {
      "text/plain": [
       "<folium.vector_layers.CircleMarker at 0x1a28f92ef0>"
      ]
     },
     "execution_count": 117,
     "metadata": {},
     "output_type": "execute_result"
    }
   ],
   "source": [
    "Pershing_Square_North = ['40.750996996','-73.973162774']\n",
    "m=folium.Map(location = Pershing_Square_North ,zoom_start = 10,)\n",
    "folium.CircleMarker( (40.750996996, -73.973162774),\n",
    "                        radius=15,\n",
    "                        popup='Pershing Square North',\n",
    "                        fill_color=\"#3db7e4\", # divvy color\n",
    "                       ).add_to(m)"
   ]
  },
  {
   "cell_type": "code",
   "execution_count": 118,
   "metadata": {},
   "outputs": [
    {
     "data": {
      "text/html": [
       "<div style=\"width:100%;\"><div style=\"position:relative;width:100%;height:0;padding-bottom:60%;\"><iframe src=\"data:text/html;charset=utf-8;base64,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\" style=\"position:absolute;width:100%;height:100%;left:0;top:0;border:none !important;\" allowfullscreen webkitallowfullscreen mozallowfullscreen></iframe></div></div>"
      ],
      "text/plain": [
       "<folium.folium.Map at 0x1a28f926d8>"
      ]
     },
     "execution_count": 118,
     "metadata": {},
     "output_type": "execute_result"
    }
   ],
   "source": [
    "m"
   ]
  },
  {
   "cell_type": "markdown",
   "metadata": {},
   "source": [
    "<font color = 'green' size = '3'>Which borough has the highest service usage?"
   ]
  },
  {
   "cell_type": "code",
   "execution_count": 119,
   "metadata": {
    "scrolled": true
   },
   "outputs": [
    {
     "data": {
      "text/plain": [
       "<matplotlib.axes._subplots.AxesSubplot at 0x1a28f9cf28>"
      ]
     },
     "execution_count": 119,
     "metadata": {},
     "output_type": "execute_result"
    },
    {
     "data": {
      "image/png": "[encoded data removed]",
      "text/plain": [
       "<Figure size 864x576 with 1 Axes>"
      ]
     },
     "metadata": {},
     "output_type": "display_data"
    }
   ],
   "source": [
    "sns.countplot(df['pickup_borough'])"
   ]
  },
  {
   "cell_type": "markdown",
   "metadata": {},
   "source": [
    "<font color = 'green' size = '3'> From the above plot, we see that <b> Manhattan </b> has the highest service usage."
   ]
  },
  {
   "cell_type": "markdown",
   "metadata": {},
   "source": [
    "<font color = 'green' size = '3'><b>3. How long are most of the users travelling?"
   ]
  },
  {
   "cell_type": "markdown",
   "metadata": {},
   "source": [
    "<font color = 'green' size = '3'> We have binned the trip duration to - Normal trips(0-30 mins),Extended Trips(31 - 60 mins) and Long trips(61-max).<br>"
   ]
  },
  {
   "cell_type": "code",
   "execution_count": 120,
   "metadata": {},
   "outputs": [],
   "source": [
    "bins = [df['tripduration'].min(),30,60,df['tripduration'].max()]\n",
    "labels=['Normal trips','Extended Trips','Long Trips']\n",
    "df['trip_duration_type'] = pd.cut(df.age,bins,labels=labels)"
   ]
  },
  {
   "cell_type": "code",
   "execution_count": 121,
   "metadata": {},
   "outputs": [
    {
     "data": {
      "text/plain": [
       "<matplotlib.axes._subplots.AxesSubplot at 0x1a5d7ea1d0>"
      ]
     },
     "execution_count": 121,
     "metadata": {},
     "output_type": "execute_result"
    },
    {
     "data": {
      "image/png": "[encoded data removed]",
      "text/plain": [
       "<Figure size 864x576 with 1 Axes>"
      ]
     },
     "metadata": {},
     "output_type": "display_data"
    }
   ],
   "source": [
    "sns.countplot(df['trip_duration_type'])"
   ]
  },
  {
   "cell_type": "markdown",
   "metadata": {},
   "source": [
    "<font color = 'green' size = '3'>Based on the above plot, we have <b>Extended trips</b> as the highest usage.<br>"
   ]
  },
  {
   "cell_type": "markdown",
   "metadata": {},
   "source": [
    "<font color = 'green' size = '3'>Which gender uses the service adequately?"
   ]
  },
  {
   "cell_type": "code",
   "execution_count": 122,
   "metadata": {},
   "outputs": [
    {
     "data": {
      "text/plain": [
       "<matplotlib.axes._subplots.AxesSubplot at 0x1a5d814b38>"
      ]
     },
     "execution_count": 122,
     "metadata": {},
     "output_type": "execute_result"
    },
    {
     "data": {
      "image/png": "[encoded data removed]",
      "text/plain": [
       "<Figure size 864x576 with 1 Axes>"
      ]
     },
     "metadata": {},
     "output_type": "display_data"
    }
   ],
   "source": [
    "sns.countplot(df['gender'])"
   ]
  },
  {
   "cell_type": "markdown",
   "metadata": {},
   "source": [
    "<font color = 'green' size = '3'>From the above plot it can be seen that <b>\"Male\"</b> use the service more adequately"
   ]
  },
  {
   "cell_type": "markdown",
   "metadata": {},
   "source": [
    "<font color = 'green' size = '3'>Which age group has highest usage?"
   ]
  },
  {
   "cell_type": "code",
   "execution_count": 123,
   "metadata": {},
   "outputs": [],
   "source": [
    "bins = [df['age'].min(),30,45,df['age'].max()]\n",
    "\n",
    "labels=['Young Adults','Middle Aged Adults','Old Adults']\n",
    "df['age_group'] = pd.cut(df.age,bins,labels=labels)"
   ]
  },
  {
   "cell_type": "markdown",
   "metadata": {},
   "source": [
    "<font color = 'green' size = '3'>To analyze the highest usage based on age groups, we have binned the featured engineered column \"age\" into three sub-age groups namely: between min age to 30 as Young Adults, between 31 to 45 as Middle Age Adults and between 46 to max-age as Old Adults."
   ]
  },
  {
   "cell_type": "code",
   "execution_count": 124,
   "metadata": {},
   "outputs": [
    {
     "data": {
      "text/html": [
       "<div>\n",
       "<style scoped>\n",
       "    .dataframe tbody tr th:only-of-type {\n",
       "        vertical-align: middle;\n",
       "    }\n",
       "\n",
       "    .dataframe tbody tr th {\n",
       "        vertical-align: top;\n",
       "    }\n",
       "\n",
       "    .dataframe thead th {\n",
       "        text-align: right;\n",
       "    }\n",
       "</style>\n",
       "<table border=\"1\" class=\"dataframe\">\n",
       "  <thead>\n",
       "    <tr style=\"text-align: right;\">\n",
       "      <th></th>\n",
       "      <th>tripduration</th>\n",
       "      <th>start station id</th>\n",
       "      <th>start station name</th>\n",
       "      <th>start station latitude</th>\n",
       "      <th>start station longitude</th>\n",
       "      <th>end station id</th>\n",
       "      <th>end station name</th>\n",
       "      <th>end station latitude</th>\n",
       "      <th>end station longitude</th>\n",
       "      <th>usertype</th>\n",
       "      <th>birth year</th>\n",
       "      <th>gender</th>\n",
       "      <th>trip_distance</th>\n",
       "      <th>age</th>\n",
       "      <th>pickup_borough</th>\n",
       "      <th>dropoff_borough</th>\n",
       "      <th>trip_duration_type</th>\n",
       "      <th>age_group</th>\n",
       "    </tr>\n",
       "  </thead>\n",
       "  <tbody>\n",
       "    <tr>\n",
       "      <th>0</th>\n",
       "      <td>5.450</td>\n",
       "      <td>3733</td>\n",
       "      <td>Avenue C &amp; E 18 St</td>\n",
       "      <td>40.730563</td>\n",
       "      <td>-73.973984</td>\n",
       "      <td>504</td>\n",
       "      <td>1 Ave &amp; E 16 St</td>\n",
       "      <td>40.732219</td>\n",
       "      <td>-73.981656</td>\n",
       "      <td>Subscriber</td>\n",
       "      <td>1968</td>\n",
       "      <td>Male</td>\n",
       "      <td>0.417659</td>\n",
       "      <td>51</td>\n",
       "      <td>manhattan</td>\n",
       "      <td>manhattan</td>\n",
       "      <td>Extended Trips</td>\n",
       "      <td>Old Adults</td>\n",
       "    </tr>\n",
       "    <tr>\n",
       "      <th>1</th>\n",
       "      <td>19.083</td>\n",
       "      <td>3329</td>\n",
       "      <td>Degraw St &amp; Smith St</td>\n",
       "      <td>40.682915</td>\n",
       "      <td>-73.993182</td>\n",
       "      <td>270</td>\n",
       "      <td>Adelphi St &amp; Myrtle Ave</td>\n",
       "      <td>40.693083</td>\n",
       "      <td>-73.971789</td>\n",
       "      <td>Customer</td>\n",
       "      <td>1969</td>\n",
       "      <td>Unknown</td>\n",
       "      <td>1.322852</td>\n",
       "      <td>50</td>\n",
       "      <td>manhattan</td>\n",
       "      <td>manhattan</td>\n",
       "      <td>Extended Trips</td>\n",
       "      <td>Old Adults</td>\n",
       "    </tr>\n",
       "    <tr>\n",
       "      <th>2</th>\n",
       "      <td>21.550</td>\n",
       "      <td>3168</td>\n",
       "      <td>Central Park West &amp; W 85 St</td>\n",
       "      <td>40.784727</td>\n",
       "      <td>-73.969617</td>\n",
       "      <td>423</td>\n",
       "      <td>W 54 St &amp; 9 Ave</td>\n",
       "      <td>40.765849</td>\n",
       "      <td>-73.986905</td>\n",
       "      <td>Customer</td>\n",
       "      <td>1969</td>\n",
       "      <td>Unknown</td>\n",
       "      <td>1.587362</td>\n",
       "      <td>50</td>\n",
       "      <td>manhattan</td>\n",
       "      <td>manhattan</td>\n",
       "      <td>Extended Trips</td>\n",
       "      <td>Old Adults</td>\n",
       "    </tr>\n",
       "    <tr>\n",
       "      <th>3</th>\n",
       "      <td>29.217</td>\n",
       "      <td>3299</td>\n",
       "      <td>E 98 St &amp; Park Ave</td>\n",
       "      <td>40.788130</td>\n",
       "      <td>-73.952060</td>\n",
       "      <td>3160</td>\n",
       "      <td>Central Park West &amp; W 76 St</td>\n",
       "      <td>40.778968</td>\n",
       "      <td>-73.973747</td>\n",
       "      <td>Subscriber</td>\n",
       "      <td>1990</td>\n",
       "      <td>Male</td>\n",
       "      <td>1.299336</td>\n",
       "      <td>29</td>\n",
       "      <td>manhattan</td>\n",
       "      <td>manhattan</td>\n",
       "      <td>Normal trips</td>\n",
       "      <td>Young Adults</td>\n",
       "    </tr>\n",
       "    <tr>\n",
       "      <th>4</th>\n",
       "      <td>10.217</td>\n",
       "      <td>486</td>\n",
       "      <td>Broadway &amp; W 29 St</td>\n",
       "      <td>40.746201</td>\n",
       "      <td>-73.988557</td>\n",
       "      <td>478</td>\n",
       "      <td>11 Ave &amp; W 41 St</td>\n",
       "      <td>40.760301</td>\n",
       "      <td>-73.998842</td>\n",
       "      <td>Subscriber</td>\n",
       "      <td>1992</td>\n",
       "      <td>Male</td>\n",
       "      <td>1.113123</td>\n",
       "      <td>27</td>\n",
       "      <td>manhattan</td>\n",
       "      <td>manhattan</td>\n",
       "      <td>Normal trips</td>\n",
       "      <td>Young Adults</td>\n",
       "    </tr>\n",
       "  </tbody>\n",
       "</table>\n",
       "</div>"
      ],
      "text/plain": [
       "   tripduration  start station id           start station name  \\\n",
       "0         5.450              3733           Avenue C & E 18 St   \n",
       "1        19.083              3329         Degraw St & Smith St   \n",
       "2        21.550              3168  Central Park West & W 85 St   \n",
       "3        29.217              3299           E 98 St & Park Ave   \n",
       "4        10.217               486           Broadway & W 29 St   \n",
       "\n",
       "   start station latitude  start station longitude  end station id  \\\n",
       "0               40.730563               -73.973984             504   \n",
       "1               40.682915               -73.993182             270   \n",
       "2               40.784727               -73.969617             423   \n",
       "3               40.788130               -73.952060            3160   \n",
       "4               40.746201               -73.988557             478   \n",
       "\n",
       "              end station name  end station latitude  end station longitude  \\\n",
       "0              1 Ave & E 16 St             40.732219             -73.981656   \n",
       "1      Adelphi St & Myrtle Ave             40.693083             -73.971789   \n",
       "2              W 54 St & 9 Ave             40.765849             -73.986905   \n",
       "3  Central Park West & W 76 St             40.778968             -73.973747   \n",
       "4             11 Ave & W 41 St             40.760301             -73.998842   \n",
       "\n",
       "     usertype  birth year   gender  trip_distance  age pickup_borough  \\\n",
       "0  Subscriber        1968     Male       0.417659   51      manhattan   \n",
       "1    Customer        1969  Unknown       1.322852   50      manhattan   \n",
       "2    Customer        1969  Unknown       1.587362   50      manhattan   \n",
       "3  Subscriber        1990     Male       1.299336   29      manhattan   \n",
       "4  Subscriber        1992     Male       1.113123   27      manhattan   \n",
       "\n",
       "  dropoff_borough trip_duration_type     age_group  \n",
       "0       manhattan     Extended Trips    Old Adults  \n",
       "1       manhattan     Extended Trips    Old Adults  \n",
       "2       manhattan     Extended Trips    Old Adults  \n",
       "3       manhattan       Normal trips  Young Adults  \n",
       "4       manhattan       Normal trips  Young Adults  "
      ]
     },
     "execution_count": 124,
     "metadata": {},
     "output_type": "execute_result"
    }
   ],
   "source": [
    "df.head()"
   ]
  },
  {
   "cell_type": "code",
   "execution_count": 125,
   "metadata": {},
   "outputs": [
    {
     "data": {
      "text/plain": [
       "<matplotlib.axes._subplots.AxesSubplot at 0x110e61a90>"
      ]
     },
     "execution_count": 125,
     "metadata": {},
     "output_type": "execute_result"
    },
    {
     "data": {
      "image/png": "[encoded data removed]",
      "text/plain": [
       "<Figure size 864x576 with 1 Axes>"
      ]
     },
     "metadata": {},
     "output_type": "display_data"
    }
   ],
   "source": [
    "sns.countplot(df['age_group'])"
   ]
  },
  {
   "cell_type": "markdown",
   "metadata": {},
   "source": [
    "<font color = 'green' size = '3'>From the above plot it can be seen that the <b>Middle aged adults</b> have the highest usage of the bikeshare service "
   ]
  },
  {
   "cell_type": "markdown",
   "metadata": {},
   "source": [
    "<font color = 'green' size = '3'>4. Which type of users has high trip duration?"
   ]
  },
  {
   "cell_type": "code",
   "execution_count": 126,
   "metadata": {},
   "outputs": [
    {
     "data": {
      "text/plain": [
       "<matplotlib.axes._subplots.AxesSubplot at 0x1a25554b70>"
      ]
     },
     "execution_count": 126,
     "metadata": {},
     "output_type": "execute_result"
    },
    {
     "data": {
      "image/png": "[encoded data removed]",
      "text/plain": [
       "<Figure size 864x576 with 1 Axes>"
      ]
     },
     "metadata": {},
     "output_type": "display_data"
    }
   ],
   "source": [
    "sns.countplot(df['usertype'], hue = df['trip_duration_type'])"
   ]
  },
  {
   "cell_type": "markdown",
   "metadata": {},
   "source": [
    "<font color = 'green' size = '3'> <b>Subscriber</b> has the highest trip duration."
   ]
  },
  {
   "cell_type": "code",
   "execution_count": 127,
   "metadata": {},
   "outputs": [
    {
     "data": {
      "text/plain": [
       "<matplotlib.axes._subplots.AxesSubplot at 0x1a2553c7b8>"
      ]
     },
     "execution_count": 127,
     "metadata": {},
     "output_type": "execute_result"
    },
    {
     "data": {
      "image/png": "[encoded data removed]",
      "text/plain": [
       "<Figure size 864x576 with 1 Axes>"
      ]
     },
     "metadata": {},
     "output_type": "display_data"
    }
   ],
   "source": [
    "sns.countplot(df['age_group'], hue = df['trip_duration_type'])"
   ]
  },
  {
   "cell_type": "markdown",
   "metadata": {},
   "source": [
    "<font color = 'green' size = '3'>The above plot is based on age group and trip duration type.From this we can analyze,that young adults majorly take the normal trips while the middle age take the extended trips and the old adults have their share majorly distributed in extended trips and some share in long trips."
   ]
  },
  {
   "cell_type": "code",
   "execution_count": 128,
   "metadata": {},
   "outputs": [
    {
     "data": {
      "text/plain": [
       "<matplotlib.axes._subplots.AxesSubplot at 0x1a255547f0>"
      ]
     },
     "execution_count": 128,
     "metadata": {},
     "output_type": "execute_result"
    },
    {
     "data": {
      "image/png": "[encoded data removed]",
      "text/plain": [
       "<Figure size 864x576 with 1 Axes>"
      ]
     },
     "metadata": {},
     "output_type": "display_data"
    }
   ],
   "source": [
    "sns.countplot(df['pickup_borough'], hue = df['usertype'])"
   ]
  },
  {
   "cell_type": "markdown",
   "metadata": {},
   "source": [
    "<font color = 'green' size = '3'>The above plot is based on pickup borough and user type.From the above plot we can analyze that in Manhattan people usually are subscribers than customers as it is the borough which majorly contributes to the  New York bikeshare service.In the other two boroughs also i.e Brooklyn and Queens people take subscription rather than just using it as a customer for a day or two."
   ]
  },
  {
   "cell_type": "code",
   "execution_count": null,
   "metadata": {},
   "outputs": [],
   "source": []
  }
 ],
 "metadata": {
  "kernelspec": {
   "display_name": "Python 3",
   "language": "python",
   "name": "python3"
  },
  "language_info": {
   "codemirror_mode": {
    "name": "ipython",
    "version": 3
   },
   "file_extension": ".py",
   "mimetype": "text/x-python",
   "name": "python",
   "nbconvert_exporter": "python",
   "pygments_lexer": "ipython3",
   "version": "3.7.3"
  }
 },
 "nbformat": 4,
 "nbformat_minor": 2
}
